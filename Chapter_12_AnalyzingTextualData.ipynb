{
 "cells": [
  {
   "cell_type": "markdown",
   "id": "0fb6ca34",
   "metadata": {},
   "source": [
    "Text Normalization"
   ]
  },
  {
   "cell_type": "code",
   "execution_count": 1,
   "id": "f50a1b0d",
   "metadata": {},
   "outputs": [
    {
     "name": "stdout",
     "output_type": "stream",
     "text": [
      "\n",
      "taj mahal is one of the beautiful monuments. it is one of the wonders of the world. it was built by shah jahan in 1631 in memory of his third beloved wife mumtaj mahal\n",
      "\n"
     ]
    }
   ],
   "source": [
    "#text input\n",
    "paragraph = \"\"\"\n",
    "Taj Mahal is one of the beautiful monuments. It is one of the wonders of the world. It was built by Shah Jahan in 1631 in memory of his third beloved wife Mumtaj Mahal\n",
    "\"\"\"\n",
    "print(paragraph.lower())"
   ]
  },
  {
   "cell_type": "markdown",
   "id": "1bee67e3",
   "metadata": {},
   "source": [
    "Tokenization"
   ]
  },
  {
   "cell_type": "code",
   "execution_count": 3,
   "id": "0387a2d5",
   "metadata": {},
   "outputs": [
    {
     "name": "stderr",
     "output_type": "stream",
     "text": [
      "[nltk_data] Downloading package punkt to\n",
      "[nltk_data]     C:\\Users\\acer\\AppData\\Roaming\\nltk_data...\n",
      "[nltk_data]   Package punkt is already up-to-date!\n",
      "[nltk_data] Downloading package stopwords to\n",
      "[nltk_data]     C:\\Users\\acer\\AppData\\Roaming\\nltk_data...\n",
      "[nltk_data]   Package stopwords is already up-to-date!\n",
      "[nltk_data] Downloading package wordnet to\n",
      "[nltk_data]     C:\\Users\\acer\\AppData\\Roaming\\nltk_data...\n",
      "[nltk_data]   Package wordnet is already up-to-date!\n",
      "[nltk_data] Downloading package averaged_perceptron_tagger to\n",
      "[nltk_data]     C:\\Users\\acer\\AppData\\Roaming\\nltk_data...\n",
      "[nltk_data]   Package averaged_perceptron_tagger is already up-to-\n",
      "[nltk_data]       date!\n"
     ]
    },
    {
     "data": {
      "text/plain": [
       "True"
      ]
     },
     "execution_count": 3,
     "metadata": {},
     "output_type": "execute_result"
    }
   ],
   "source": [
    "#before tokenization, import nltk and download requires files\n",
    "import nltk\n",
    "\n",
    "#download punkt\n",
    "nltk.download('punkt')\n",
    "\n",
    "#download stopwords\n",
    "nltk.download('stopwords')\n",
    "\n",
    "#download wordnet\n",
    "nltk.download('wordnet')\n",
    "\n",
    "#download average_preceptron_tagger\n",
    "nltk.download('averaged_perceptron_tagger')"
   ]
  },
  {
   "cell_type": "code",
   "execution_count": 4,
   "id": "278ec592",
   "metadata": {},
   "outputs": [
    {
     "name": "stdout",
     "output_type": "stream",
     "text": [
      "['\\nTaj Mahal is one of the beautiful monuments.', 'It is one of the wonders of the world.', 'It was built by Shah Jahan in 1631 in memory of his third beloved wife Mumtaj Mahal']\n"
     ]
    }
   ],
   "source": [
    "from nltk.tokenize import sent_tokenize\n",
    "paragraph = \"\"\"\n",
    "Taj Mahal is one of the beautiful monuments. It is one of the wonders of the world. It was built by Shah Jahan in 1631 in memory of his third beloved wife Mumtaj Mahal\n",
    "\"\"\"\n",
    "tokenized_sentences = sent_tokenize(paragraph)\n",
    "print(tokenized_sentences)"
   ]
  },
  {
   "cell_type": "code",
   "execution_count": 18,
   "id": "678fc782",
   "metadata": {},
   "outputs": [
    {
     "name": "stdout",
     "output_type": "stream",
     "text": [
      "['\\nTaj Mahal is one of the beautiful monuments.', 'It is one of the wonders of the world.', 'It was built by Shah Jahan in 1631 in memory of his third beloved wife Mumtaj Mahal\\n']\n"
     ]
    }
   ],
   "source": [
    "#tokenized sentences with spacy\n",
    "import spacy\n",
    "\n",
    "nlp = spacy.load(\"en_core_web_sm\")\n",
    "\n",
    "#create nlp pipe using sentencizer\n",
    "#append the sentencizer pipe to the nlp pipeline\n",
    "sent_pipe = nlp.add_pipe('sentencizer')\n",
    "paragraph = \"\"\"\n",
    "Taj Mahal is one of the beautiful monuments. It is one of the wonders of the world. It was built by Shah Jahan in 1631 in memory of his third beloved wife Mumtaj Mahal\n",
    "\"\"\"\n",
    "\n",
    "#create nlp obj to handle linguistic annoatation in a documents\n",
    "nlp_doc = nlp(paragraph)\n",
    "\n",
    "#generate tokenize sentence\n",
    "tokenized_sentences = []\n",
    "for sentence in nlp_doc.sents:\n",
    "    tokenized_sentences.append(sentence.text)\n",
    "print(tokenized_sentences)"
   ]
  },
  {
   "cell_type": "code",
   "execution_count": 19,
   "id": "3b953ed8",
   "metadata": {},
   "outputs": [
    {
     "name": "stdout",
     "output_type": "stream",
     "text": [
      "['Taj', 'Mahal', 'is', 'one', 'of', 'the', 'beautiful', 'monuments', '.', 'It', 'is', 'one', 'of', 'the', 'wonders', 'of', 'the', 'world', '.', 'It', 'was', 'built', 'by', 'Shah', 'Jahan', 'in', '1631', 'in', 'memory', 'of', 'his', 'third', 'beloved', 'wife', 'Mumtaj', 'Mahal']\n"
     ]
    }
   ],
   "source": [
    "#Tokenize paragraph into words using word_tokenize\n",
    "from nltk.tokenize import word_tokenize\n",
    "paragraph = \"\"\"\n",
    "Taj Mahal is one of the beautiful monuments. It is one of the wonders of the world. It was built by Shah Jahan in 1631 in memory of his third beloved wife Mumtaj Mahal\n",
    "\"\"\"\n",
    "#split paragraph into words\n",
    "tokenized_word = word_tokenize(paragraph)\n",
    "print(tokenized_word)"
   ]
  },
  {
   "cell_type": "code",
   "execution_count": 21,
   "id": "957d0a3e",
   "metadata": {},
   "outputs": [
    {
     "name": "stdout",
     "output_type": "stream",
     "text": [
      "['\\n', 'Taj', 'Mahal', 'is', 'one', 'of', 'the', 'beautiful', 'monuments', '.', 'It', 'is', 'one', 'of', 'the', 'wonders', 'of', 'the', 'world', '.', 'It', 'was', 'built', 'by', 'Shah', 'Jahan', 'in', '1631', 'in', 'memory', 'of', 'his', 'third', 'beloved', 'wife', 'Mumtaj', 'Mahal', '\\n']\n"
     ]
    }
   ],
   "source": [
    "#tokenize with spacy\n",
    "import spacy\n",
    "nlp = spacy.load('en_core_web_sm')\n",
    "\n",
    "paragraph = \"\"\"\n",
    "Taj Mahal is one of the beautiful monuments. It is one of the wonders of the world. It was built by Shah Jahan in 1631 in memory of his third beloved wife Mumtaj Mahal\n",
    "\"\"\"\n",
    "\n",
    "#create nlp obj\n",
    "my_doc = nlp(paragraph)\n",
    "\n",
    "#tokenize paragraph into words\n",
    "tokenized_words = []\n",
    "for token in my_doc:\n",
    "    tokenized_words.append(token.text)\n",
    "print(tokenized_words)"
   ]
  },
  {
   "cell_type": "code",
   "execution_count": 22,
   "id": "19393908",
   "metadata": {},
   "outputs": [
    {
     "data": {
      "text/plain": [
       "[('of', 4), ('the', 3), ('\\n', 2), ('Mahal', 2), ('is', 2)]"
      ]
     },
     "execution_count": 22,
     "metadata": {},
     "output_type": "execute_result"
    }
   ],
   "source": [
    "#frequency distribution of tokenized words\n",
    "\n",
    "#import freqdist\n",
    "from nltk.probability import FreqDist\n",
    "\n",
    "#find freq dist of paragraph\n",
    "fdist = FreqDist(tokenized_words)\n",
    "\n",
    "#check top 5 common words\n",
    "fdist.most_common(5)\n"
   ]
  },
  {
   "cell_type": "code",
   "execution_count": 26,
   "id": "eb9161db",
   "metadata": {},
   "outputs": [
    {
     "data": {
      "image/png": "[encoded data removed]",
      "text/plain": [
       "<Figure size 432x288 with 1 Axes>"
      ]
     },
     "metadata": {
      "needs_background": "light"
     },
     "output_type": "display_data"
    }
   ],
   "source": [
    "#create freq dist plot\n",
    "import matplotlib.pyplot as plt\n",
    "\n",
    "fdist.plot(20, cumulative=False)\n",
    "plt.show()"
   ]
  },
  {
   "cell_type": "code",
   "execution_count": 27,
   "id": "0309f0d1",
   "metadata": {},
   "outputs": [
    {
     "name": "stdout",
     "output_type": "stream",
     "text": [
      "Tokenized word list: ['\\n', 'Taj', 'Mahal', 'is', 'one', 'of', 'the', 'beautiful', 'monuments', '.', 'It', 'is', 'one', 'of', 'the', 'wonders', 'of', 'the', 'world', '.', 'It', 'was', 'built', 'by', 'Shah', 'Jahan', 'in', '1631', 'in', 'memory', 'of', 'his', 'third', 'beloved', 'wife', 'Mumtaj', 'Mahal', '\\n']\n",
      "Filtered word list: ['\\n', 'Taj', 'Mahal', 'one', 'beautiful', 'monuments', '.', 'It', 'one', 'wonders', 'world', '.', 'It', 'built', 'Shah', 'Jahan', '1631', 'memory', 'third', 'beloved', 'wife', 'Mumtaj', 'Mahal', '\\n']\n"
     ]
    }
   ],
   "source": [
    "#removing stop-words\n",
    "#import nltk stopwords\n",
    "from nltk.corpus import stopwords\n",
    "\n",
    "#load english stopwords list\n",
    "stopwords_set = set(stopwords.words(\"english\"))\n",
    "\n",
    "#removing stopwords from text\n",
    "filtered_word_list = []\n",
    "\n",
    "for word in tokenized_words:\n",
    "    if word not in stopwords_set:\n",
    "        filtered_word_list.append(word)\n",
    "#print tokenized words\n",
    "print(\"Tokenized word list:\", tokenized_words)\n",
    "print(\"Filtered word list:\", filtered_word_list)"
   ]
  },
  {
   "cell_type": "code",
   "execution_count": 28,
   "id": "5d5605a2",
   "metadata": {},
   "outputs": [
    {
     "name": "stdout",
     "output_type": "stream",
     "text": [
      "Filtered word List: [Taj, Mahal, beautiful, monuments, ., wonders, world, ., built, Shah, Jahan, 1631, memory, beloved, wife, Mumtaj, Mahal]\n"
     ]
    }
   ],
   "source": [
    "#remove stopwords using spacy\n",
    "import spacy\n",
    "nlp = spacy.load('en_core_web_sm')\n",
    "\n",
    "paragraph = \"\"\"Taj Mahal is one of the beautiful monuments. It is one of the wonders of the world. It was built by Shah Jahan in 1631 in memory of his third beloved wife Mumtaj Mahal\"\"\"\n",
    "\n",
    "#create nlp obj\n",
    "my_doc = nlp(paragraph)\n",
    "\n",
    "#remove stopwords in para\n",
    "filtered_token_list = []\n",
    "for token in my_doc:\n",
    "    if token.is_stop==False:\n",
    "        filtered_token_list.append(token)\n",
    "print(\"Filtered word List:\", filtered_token_list)"
   ]
  },
  {
   "cell_type": "markdown",
   "id": "130cc12b",
   "metadata": {},
   "source": [
    "# Stemming and Lemmatization"
   ]
  },
  {
   "cell_type": "code",
   "execution_count": 29,
   "id": "6a9e17c0",
   "metadata": {},
   "outputs": [
    {
     "name": "stdout",
     "output_type": "stream",
     "text": [
      "Lemmatized sample word: cry\n",
      "Stemmed sample word: cri\n"
     ]
    }
   ],
   "source": [
    "#import lemmatizer\n",
    "from nltk.stem.wordnet import WordNetLemmatizer\n",
    "\n",
    "#import Porter Stemmer\n",
    "from nltk.stem.porter import PorterStemmer\n",
    "\n",
    "#create lemmatizer obj\n",
    "lemmatizer = WordNetLemmatizer()\n",
    "#create stemmer obj\n",
    "stemmer = PorterStemmer()\n",
    "\n",
    "#take a sample word\n",
    "sample_word = \"crying\"\n",
    "print(\"Lemmatized sample word:\", lemmatizer.lemmatize(sample_word, \"v\"))\n",
    "print(\"Stemmed sample word:\", stemmer.stem(sample_word))\n"
   ]
  },
  {
   "cell_type": "code",
   "execution_count": 30,
   "id": "195701f0",
   "metadata": {},
   "outputs": [
    {
     "name": "stdout",
     "output_type": "stream",
     "text": [
      "Original words: cry\n",
      "Limmatized words: cry\n",
      "Original words: cries\n",
      "Limmatized words: cry\n",
      "Original words: crying\n",
      "Limmatized words: cry\n"
     ]
    }
   ],
   "source": [
    "#lemmatized using spacy\n",
    "import spacy\n",
    "nlp = spacy.load(\"en_core_web_sm\")\n",
    "\n",
    "words = nlp(\"cry cries crying\")\n",
    "\n",
    "#find lemmatized word\n",
    "for w in words:\n",
    "    print('Original words:', w.text)\n",
    "    print('Limmatized words:', w.lemma_)"
   ]
  },
  {
   "cell_type": "markdown",
   "id": "0edb072d",
   "metadata": {},
   "source": [
    "# pos tagging"
   ]
  },
  {
   "cell_type": "code",
   "execution_count": 2,
   "id": "ab456eba",
   "metadata": {},
   "outputs": [
    {
     "name": "stdout",
     "output_type": "stream",
     "text": [
      "[('Taj', 'NNP'), ('Mahal', 'NNP'), ('is', 'VBZ'), ('one', 'CD'), ('of', 'IN'), ('the', 'DT'), ('beautiful', 'JJ'), ('monument', 'NN'), ('.', '.')]\n"
     ]
    }
   ],
   "source": [
    "#findng pos tag using nltk\n",
    "#import word tokenizer and pos tagger\n",
    "\n",
    "from nltk.tokenize import word_tokenize\n",
    "from nltk import pos_tag\n",
    "\n",
    "#sample sentence\n",
    "sentence = \"Taj Mahal is one of the beautiful monument.\"\n",
    "#tokenize the sentence\n",
    "sent_tokens = word_tokenize(sentence)\n",
    "\n",
    "#create pos tag\n",
    "sent_pos = pos_tag(sent_tokens)\n",
    "\n",
    "print(sent_pos)\n"
   ]
  },
  {
   "cell_type": "code",
   "execution_count": 33,
   "id": "6d0854eb",
   "metadata": {},
   "outputs": [
    {
     "name": "stdout",
     "output_type": "stream",
     "text": [
      "Taj PROPN\n",
      "Mahal PROPN\n",
      "is AUX\n",
      "one NUM\n",
      "of ADP\n",
      "the DET\n",
      "beautiful ADJ\n",
      "monument NOUN\n",
      ". PUNCT\n"
     ]
    }
   ],
   "source": [
    "#pos tagging with spacy\n",
    "import spacy\n",
    "nlp = spacy.load(\"en_core_web_sm\")\n",
    "\n",
    "sentence = nlp( u\"Taj Mahal is one of the beautiful monument.\")\n",
    "for token in sentence:\n",
    "    print(token.text, token.pos_)"
   ]
  },
  {
   "cell_type": "markdown",
   "id": "3475911a",
   "metadata": {},
   "source": [
    "# Reconizing entities\n"
   ]
  },
  {
   "cell_type": "code",
   "execution_count": 3,
   "id": "1b351e84",
   "metadata": {},
   "outputs": [
    {
     "name": "stdout",
     "output_type": "stream",
     "text": [
      "[('Taj Mahal', 'ORG'), ('Shah Jahan', 'PERSON'), ('1631', 'DATE'), ('third', 'ORDINAL'), ('Mumtaj Mahal', 'PERSON')]\n"
     ]
    }
   ],
   "source": [
    "#name entity recognition\n",
    "import spacy\n",
    "nlp = spacy.load(\"en_core_web_sm\")\n",
    "paragraph = \"\"\"Taj Mahal is one of the beautiful monuments. It is one of the wonders of the world. It was built by Shah Jahan in 1631 in memory of his third beloved wife Mumtaj Mahal.\"\"\"\n",
    "\n",
    "doc = nlp(paragraph)\n",
    "entities = [(i.text, i.label_) for i in doc.ents]\n",
    "print(entities)"
   ]
  },
  {
   "cell_type": "code",
   "execution_count": 4,
   "id": "d9b36aab",
   "metadata": {},
   "outputs": [
    {
     "data": {
      "text/html": [
       "<span class=\"tex2jax_ignore\"><div class=\"entities\" style=\"line-height: 2.5; direction: ltr\">\n",
       "<mark class=\"entity\" style=\"background: #7aecec; padding: 0.45em 0.6em; margin: 0 0.25em; line-height: 1; border-radius: 0.35em;\">\n",
       "    Taj Mahal\n",
       "    <span style=\"font-size: 0.8em; font-weight: bold; line-height: 1; border-radius: 0.35em; vertical-align: middle; margin-left: 0.5rem\">ORG</span>\n",
       "</mark>\n",
       " is one of the beautiful monuments. It is one of the wonders of the world. It was built by \n",
       "<mark class=\"entity\" style=\"background: #aa9cfc; padding: 0.45em 0.6em; margin: 0 0.25em; line-height: 1; border-radius: 0.35em;\">\n",
       "    Shah Jahan\n",
       "    <span style=\"font-size: 0.8em; font-weight: bold; line-height: 1; border-radius: 0.35em; vertical-align: middle; margin-left: 0.5rem\">PERSON</span>\n",
       "</mark>\n",
       " in \n",
       "<mark class=\"entity\" style=\"background: #bfe1d9; padding: 0.45em 0.6em; margin: 0 0.25em; line-height: 1; border-radius: 0.35em;\">\n",
       "    1631\n",
       "    <span style=\"font-size: 0.8em; font-weight: bold; line-height: 1; border-radius: 0.35em; vertical-align: middle; margin-left: 0.5rem\">DATE</span>\n",
       "</mark>\n",
       " in memory of his \n",
       "<mark class=\"entity\" style=\"background: #e4e7d2; padding: 0.45em 0.6em; margin: 0 0.25em; line-height: 1; border-radius: 0.35em;\">\n",
       "    third\n",
       "    <span style=\"font-size: 0.8em; font-weight: bold; line-height: 1; border-radius: 0.35em; vertical-align: middle; margin-left: 0.5rem\">ORDINAL</span>\n",
       "</mark>\n",
       " beloved wife \n",
       "<mark class=\"entity\" style=\"background: #aa9cfc; padding: 0.45em 0.6em; margin: 0 0.25em; line-height: 1; border-radius: 0.35em;\">\n",
       "    Mumtaj Mahal\n",
       "    <span style=\"font-size: 0.8em; font-weight: bold; line-height: 1; border-radius: 0.35em; vertical-align: middle; margin-left: 0.5rem\">PERSON</span>\n",
       "</mark>\n",
       ".</div></span>"
      ],
      "text/plain": [
       "<IPython.core.display.HTML object>"
      ]
     },
     "metadata": {},
     "output_type": "display_data"
    }
   ],
   "source": [
    "#visualize\n",
    "from spacy import displacy\n",
    "displacy.render(doc, style = \"ent\", jupyter = True)"
   ]
  },
  {
   "cell_type": "markdown",
   "id": "965489fa",
   "metadata": {},
   "source": [
    "# Dependency parsing"
   ]
  },
  {
   "cell_type": "code",
   "execution_count": 5,
   "id": "032c8e95",
   "metadata": {},
   "outputs": [
    {
     "data": {
      "text/html": [
       "<span class=\"tex2jax_ignore\"><svg xmlns=\"http://www.w3.org/2000/svg\" xmlns:xlink=\"http://www.w3.org/1999/xlink\" xml:lang=\"en\" id=\"d9080d08f2ed4961bd6b39e6af90fc33-0\" class=\"displacy\" width=\"5150\" height=\"512.0\" direction=\"ltr\" style=\"max-width: none; height: 512.0px; color: #000000; background: #ffffff; font-family: Arial; direction: ltr\">\n",
       "<text class=\"displacy-token\" fill=\"currentColor\" text-anchor=\"middle\" y=\"422.0\">\n",
       "    <tspan class=\"displacy-word\" fill=\"currentColor\" x=\"50\">Taj</tspan>\n",
       "    <tspan class=\"displacy-tag\" dy=\"2em\" fill=\"currentColor\" x=\"50\">PROPN</tspan>\n",
       "</text>\n",
       "\n",
       "<text class=\"displacy-token\" fill=\"currentColor\" text-anchor=\"middle\" y=\"422.0\">\n",
       "    <tspan class=\"displacy-word\" fill=\"currentColor\" x=\"200\">Mahal</tspan>\n",
       "    <tspan class=\"displacy-tag\" dy=\"2em\" fill=\"currentColor\" x=\"200\">PROPN</tspan>\n",
       "</text>\n",
       "\n",
       "<text class=\"displacy-token\" fill=\"currentColor\" text-anchor=\"middle\" y=\"422.0\">\n",
       "    <tspan class=\"displacy-word\" fill=\"currentColor\" x=\"350\">is</tspan>\n",
       "    <tspan class=\"displacy-tag\" dy=\"2em\" fill=\"currentColor\" x=\"350\">AUX</tspan>\n",
       "</text>\n",
       "\n",
       "<text class=\"displacy-token\" fill=\"currentColor\" text-anchor=\"middle\" y=\"422.0\">\n",
       "    <tspan class=\"displacy-word\" fill=\"currentColor\" x=\"500\">one</tspan>\n",
       "    <tspan class=\"displacy-tag\" dy=\"2em\" fill=\"currentColor\" x=\"500\">NUM</tspan>\n",
       "</text>\n",
       "\n",
       "<text class=\"displacy-token\" fill=\"currentColor\" text-anchor=\"middle\" y=\"422.0\">\n",
       "    <tspan class=\"displacy-word\" fill=\"currentColor\" x=\"650\">of</tspan>\n",
       "    <tspan class=\"displacy-tag\" dy=\"2em\" fill=\"currentColor\" x=\"650\">ADP</tspan>\n",
       "</text>\n",
       "\n",
       "<text class=\"displacy-token\" fill=\"currentColor\" text-anchor=\"middle\" y=\"422.0\">\n",
       "    <tspan class=\"displacy-word\" fill=\"currentColor\" x=\"800\">the</tspan>\n",
       "    <tspan class=\"displacy-tag\" dy=\"2em\" fill=\"currentColor\" x=\"800\">DET</tspan>\n",
       "</text>\n",
       "\n",
       "<text class=\"displacy-token\" fill=\"currentColor\" text-anchor=\"middle\" y=\"422.0\">\n",
       "    <tspan class=\"displacy-word\" fill=\"currentColor\" x=\"950\">beautiful</tspan>\n",
       "    <tspan class=\"displacy-tag\" dy=\"2em\" fill=\"currentColor\" x=\"950\">ADJ</tspan>\n",
       "</text>\n",
       "\n",
       "<text class=\"displacy-token\" fill=\"currentColor\" text-anchor=\"middle\" y=\"422.0\">\n",
       "    <tspan class=\"displacy-word\" fill=\"currentColor\" x=\"1100\">monuments.</tspan>\n",
       "    <tspan class=\"displacy-tag\" dy=\"2em\" fill=\"currentColor\" x=\"1100\">NOUN</tspan>\n",
       "</text>\n",
       "\n",
       "<text class=\"displacy-token\" fill=\"currentColor\" text-anchor=\"middle\" y=\"422.0\">\n",
       "    <tspan class=\"displacy-word\" fill=\"currentColor\" x=\"1250\">It</tspan>\n",
       "    <tspan class=\"displacy-tag\" dy=\"2em\" fill=\"currentColor\" x=\"1250\">PRON</tspan>\n",
       "</text>\n",
       "\n",
       "<text class=\"displacy-token\" fill=\"currentColor\" text-anchor=\"middle\" y=\"422.0\">\n",
       "    <tspan class=\"displacy-word\" fill=\"currentColor\" x=\"1400\">is</tspan>\n",
       "    <tspan class=\"displacy-tag\" dy=\"2em\" fill=\"currentColor\" x=\"1400\">AUX</tspan>\n",
       "</text>\n",
       "\n",
       "<text class=\"displacy-token\" fill=\"currentColor\" text-anchor=\"middle\" y=\"422.0\">\n",
       "    <tspan class=\"displacy-word\" fill=\"currentColor\" x=\"1550\">one</tspan>\n",
       "    <tspan class=\"displacy-tag\" dy=\"2em\" fill=\"currentColor\" x=\"1550\">NUM</tspan>\n",
       "</text>\n",
       "\n",
       "<text class=\"displacy-token\" fill=\"currentColor\" text-anchor=\"middle\" y=\"422.0\">\n",
       "    <tspan class=\"displacy-word\" fill=\"currentColor\" x=\"1700\">of</tspan>\n",
       "    <tspan class=\"displacy-tag\" dy=\"2em\" fill=\"currentColor\" x=\"1700\">ADP</tspan>\n",
       "</text>\n",
       "\n",
       "<text class=\"displacy-token\" fill=\"currentColor\" text-anchor=\"middle\" y=\"422.0\">\n",
       "    <tspan class=\"displacy-word\" fill=\"currentColor\" x=\"1850\">the</tspan>\n",
       "    <tspan class=\"displacy-tag\" dy=\"2em\" fill=\"currentColor\" x=\"1850\">DET</tspan>\n",
       "</text>\n",
       "\n",
       "<text class=\"displacy-token\" fill=\"currentColor\" text-anchor=\"middle\" y=\"422.0\">\n",
       "    <tspan class=\"displacy-word\" fill=\"currentColor\" x=\"2000\">wonders</tspan>\n",
       "    <tspan class=\"displacy-tag\" dy=\"2em\" fill=\"currentColor\" x=\"2000\">NOUN</tspan>\n",
       "</text>\n",
       "\n",
       "<text class=\"displacy-token\" fill=\"currentColor\" text-anchor=\"middle\" y=\"422.0\">\n",
       "    <tspan class=\"displacy-word\" fill=\"currentColor\" x=\"2150\">of</tspan>\n",
       "    <tspan class=\"displacy-tag\" dy=\"2em\" fill=\"currentColor\" x=\"2150\">ADP</tspan>\n",
       "</text>\n",
       "\n",
       "<text class=\"displacy-token\" fill=\"currentColor\" text-anchor=\"middle\" y=\"422.0\">\n",
       "    <tspan class=\"displacy-word\" fill=\"currentColor\" x=\"2300\">the</tspan>\n",
       "    <tspan class=\"displacy-tag\" dy=\"2em\" fill=\"currentColor\" x=\"2300\">DET</tspan>\n",
       "</text>\n",
       "\n",
       "<text class=\"displacy-token\" fill=\"currentColor\" text-anchor=\"middle\" y=\"422.0\">\n",
       "    <tspan class=\"displacy-word\" fill=\"currentColor\" x=\"2450\">world.</tspan>\n",
       "    <tspan class=\"displacy-tag\" dy=\"2em\" fill=\"currentColor\" x=\"2450\">NOUN</tspan>\n",
       "</text>\n",
       "\n",
       "<text class=\"displacy-token\" fill=\"currentColor\" text-anchor=\"middle\" y=\"422.0\">\n",
       "    <tspan class=\"displacy-word\" fill=\"currentColor\" x=\"2600\">It</tspan>\n",
       "    <tspan class=\"displacy-tag\" dy=\"2em\" fill=\"currentColor\" x=\"2600\">PRON</tspan>\n",
       "</text>\n",
       "\n",
       "<text class=\"displacy-token\" fill=\"currentColor\" text-anchor=\"middle\" y=\"422.0\">\n",
       "    <tspan class=\"displacy-word\" fill=\"currentColor\" x=\"2750\">was</tspan>\n",
       "    <tspan class=\"displacy-tag\" dy=\"2em\" fill=\"currentColor\" x=\"2750\">AUX</tspan>\n",
       "</text>\n",
       "\n",
       "<text class=\"displacy-token\" fill=\"currentColor\" text-anchor=\"middle\" y=\"422.0\">\n",
       "    <tspan class=\"displacy-word\" fill=\"currentColor\" x=\"2900\">built</tspan>\n",
       "    <tspan class=\"displacy-tag\" dy=\"2em\" fill=\"currentColor\" x=\"2900\">VERB</tspan>\n",
       "</text>\n",
       "\n",
       "<text class=\"displacy-token\" fill=\"currentColor\" text-anchor=\"middle\" y=\"422.0\">\n",
       "    <tspan class=\"displacy-word\" fill=\"currentColor\" x=\"3050\">by</tspan>\n",
       "    <tspan class=\"displacy-tag\" dy=\"2em\" fill=\"currentColor\" x=\"3050\">ADP</tspan>\n",
       "</text>\n",
       "\n",
       "<text class=\"displacy-token\" fill=\"currentColor\" text-anchor=\"middle\" y=\"422.0\">\n",
       "    <tspan class=\"displacy-word\" fill=\"currentColor\" x=\"3200\">Shah</tspan>\n",
       "    <tspan class=\"displacy-tag\" dy=\"2em\" fill=\"currentColor\" x=\"3200\">PROPN</tspan>\n",
       "</text>\n",
       "\n",
       "<text class=\"displacy-token\" fill=\"currentColor\" text-anchor=\"middle\" y=\"422.0\">\n",
       "    <tspan class=\"displacy-word\" fill=\"currentColor\" x=\"3350\">Jahan</tspan>\n",
       "    <tspan class=\"displacy-tag\" dy=\"2em\" fill=\"currentColor\" x=\"3350\">PROPN</tspan>\n",
       "</text>\n",
       "\n",
       "<text class=\"displacy-token\" fill=\"currentColor\" text-anchor=\"middle\" y=\"422.0\">\n",
       "    <tspan class=\"displacy-word\" fill=\"currentColor\" x=\"3500\">in</tspan>\n",
       "    <tspan class=\"displacy-tag\" dy=\"2em\" fill=\"currentColor\" x=\"3500\">ADP</tspan>\n",
       "</text>\n",
       "\n",
       "<text class=\"displacy-token\" fill=\"currentColor\" text-anchor=\"middle\" y=\"422.0\">\n",
       "    <tspan class=\"displacy-word\" fill=\"currentColor\" x=\"3650\">1631</tspan>\n",
       "    <tspan class=\"displacy-tag\" dy=\"2em\" fill=\"currentColor\" x=\"3650\">NUM</tspan>\n",
       "</text>\n",
       "\n",
       "<text class=\"displacy-token\" fill=\"currentColor\" text-anchor=\"middle\" y=\"422.0\">\n",
       "    <tspan class=\"displacy-word\" fill=\"currentColor\" x=\"3800\">in</tspan>\n",
       "    <tspan class=\"displacy-tag\" dy=\"2em\" fill=\"currentColor\" x=\"3800\">ADP</tspan>\n",
       "</text>\n",
       "\n",
       "<text class=\"displacy-token\" fill=\"currentColor\" text-anchor=\"middle\" y=\"422.0\">\n",
       "    <tspan class=\"displacy-word\" fill=\"currentColor\" x=\"3950\">memory</tspan>\n",
       "    <tspan class=\"displacy-tag\" dy=\"2em\" fill=\"currentColor\" x=\"3950\">NOUN</tspan>\n",
       "</text>\n",
       "\n",
       "<text class=\"displacy-token\" fill=\"currentColor\" text-anchor=\"middle\" y=\"422.0\">\n",
       "    <tspan class=\"displacy-word\" fill=\"currentColor\" x=\"4100\">of</tspan>\n",
       "    <tspan class=\"displacy-tag\" dy=\"2em\" fill=\"currentColor\" x=\"4100\">ADP</tspan>\n",
       "</text>\n",
       "\n",
       "<text class=\"displacy-token\" fill=\"currentColor\" text-anchor=\"middle\" y=\"422.0\">\n",
       "    <tspan class=\"displacy-word\" fill=\"currentColor\" x=\"4250\">his</tspan>\n",
       "    <tspan class=\"displacy-tag\" dy=\"2em\" fill=\"currentColor\" x=\"4250\">PRON</tspan>\n",
       "</text>\n",
       "\n",
       "<text class=\"displacy-token\" fill=\"currentColor\" text-anchor=\"middle\" y=\"422.0\">\n",
       "    <tspan class=\"displacy-word\" fill=\"currentColor\" x=\"4400\">third</tspan>\n",
       "    <tspan class=\"displacy-tag\" dy=\"2em\" fill=\"currentColor\" x=\"4400\">ADJ</tspan>\n",
       "</text>\n",
       "\n",
       "<text class=\"displacy-token\" fill=\"currentColor\" text-anchor=\"middle\" y=\"422.0\">\n",
       "    <tspan class=\"displacy-word\" fill=\"currentColor\" x=\"4550\">beloved</tspan>\n",
       "    <tspan class=\"displacy-tag\" dy=\"2em\" fill=\"currentColor\" x=\"4550\">ADJ</tspan>\n",
       "</text>\n",
       "\n",
       "<text class=\"displacy-token\" fill=\"currentColor\" text-anchor=\"middle\" y=\"422.0\">\n",
       "    <tspan class=\"displacy-word\" fill=\"currentColor\" x=\"4700\">wife</tspan>\n",
       "    <tspan class=\"displacy-tag\" dy=\"2em\" fill=\"currentColor\" x=\"4700\">NOUN</tspan>\n",
       "</text>\n",
       "\n",
       "<text class=\"displacy-token\" fill=\"currentColor\" text-anchor=\"middle\" y=\"422.0\">\n",
       "    <tspan class=\"displacy-word\" fill=\"currentColor\" x=\"4850\">Mumtaj</tspan>\n",
       "    <tspan class=\"displacy-tag\" dy=\"2em\" fill=\"currentColor\" x=\"4850\">PROPN</tspan>\n",
       "</text>\n",
       "\n",
       "<text class=\"displacy-token\" fill=\"currentColor\" text-anchor=\"middle\" y=\"422.0\">\n",
       "    <tspan class=\"displacy-word\" fill=\"currentColor\" x=\"5000\">Mahal.</tspan>\n",
       "    <tspan class=\"displacy-tag\" dy=\"2em\" fill=\"currentColor\" x=\"5000\">PROPN</tspan>\n",
       "</text>\n",
       "\n",
       "<g class=\"displacy-arrow\">\n",
       "    <path class=\"displacy-arc\" id=\"arrow-d9080d08f2ed4961bd6b39e6af90fc33-0-0\" stroke-width=\"2px\" d=\"M70,377.0 C70,302.0 180.0,302.0 180.0,377.0\" fill=\"none\" stroke=\"currentColor\"/>\n",
       "    <text dy=\"1.25em\" style=\"font-size: 0.8em; letter-spacing: 1px\">\n",
       "        <textPath xlink:href=\"#arrow-d9080d08f2ed4961bd6b39e6af90fc33-0-0\" class=\"displacy-label\" startOffset=\"50%\" side=\"left\" fill=\"currentColor\" text-anchor=\"middle\">compound</textPath>\n",
       "    </text>\n",
       "    <path class=\"displacy-arrowhead\" d=\"M70,379.0 L62,367.0 78,367.0\" fill=\"currentColor\"/>\n",
       "</g>\n",
       "\n",
       "<g class=\"displacy-arrow\">\n",
       "    <path class=\"displacy-arc\" id=\"arrow-d9080d08f2ed4961bd6b39e6af90fc33-0-1\" stroke-width=\"2px\" d=\"M220,377.0 C220,302.0 330.0,302.0 330.0,377.0\" fill=\"none\" stroke=\"currentColor\"/>\n",
       "    <text dy=\"1.25em\" style=\"font-size: 0.8em; letter-spacing: 1px\">\n",
       "        <textPath xlink:href=\"#arrow-d9080d08f2ed4961bd6b39e6af90fc33-0-1\" class=\"displacy-label\" startOffset=\"50%\" side=\"left\" fill=\"currentColor\" text-anchor=\"middle\">nsubj</textPath>\n",
       "    </text>\n",
       "    <path class=\"displacy-arrowhead\" d=\"M220,379.0 L212,367.0 228,367.0\" fill=\"currentColor\"/>\n",
       "</g>\n",
       "\n",
       "<g class=\"displacy-arrow\">\n",
       "    <path class=\"displacy-arc\" id=\"arrow-d9080d08f2ed4961bd6b39e6af90fc33-0-2\" stroke-width=\"2px\" d=\"M370,377.0 C370,302.0 480.0,302.0 480.0,377.0\" fill=\"none\" stroke=\"currentColor\"/>\n",
       "    <text dy=\"1.25em\" style=\"font-size: 0.8em; letter-spacing: 1px\">\n",
       "        <textPath xlink:href=\"#arrow-d9080d08f2ed4961bd6b39e6af90fc33-0-2\" class=\"displacy-label\" startOffset=\"50%\" side=\"left\" fill=\"currentColor\" text-anchor=\"middle\">attr</textPath>\n",
       "    </text>\n",
       "    <path class=\"displacy-arrowhead\" d=\"M480.0,379.0 L488.0,367.0 472.0,367.0\" fill=\"currentColor\"/>\n",
       "</g>\n",
       "\n",
       "<g class=\"displacy-arrow\">\n",
       "    <path class=\"displacy-arc\" id=\"arrow-d9080d08f2ed4961bd6b39e6af90fc33-0-3\" stroke-width=\"2px\" d=\"M520,377.0 C520,302.0 630.0,302.0 630.0,377.0\" fill=\"none\" stroke=\"currentColor\"/>\n",
       "    <text dy=\"1.25em\" style=\"font-size: 0.8em; letter-spacing: 1px\">\n",
       "        <textPath xlink:href=\"#arrow-d9080d08f2ed4961bd6b39e6af90fc33-0-3\" class=\"displacy-label\" startOffset=\"50%\" side=\"left\" fill=\"currentColor\" text-anchor=\"middle\">prep</textPath>\n",
       "    </text>\n",
       "    <path class=\"displacy-arrowhead\" d=\"M630.0,379.0 L638.0,367.0 622.0,367.0\" fill=\"currentColor\"/>\n",
       "</g>\n",
       "\n",
       "<g class=\"displacy-arrow\">\n",
       "    <path class=\"displacy-arc\" id=\"arrow-d9080d08f2ed4961bd6b39e6af90fc33-0-4\" stroke-width=\"2px\" d=\"M820,377.0 C820,227.0 1085.0,227.0 1085.0,377.0\" fill=\"none\" stroke=\"currentColor\"/>\n",
       "    <text dy=\"1.25em\" style=\"font-size: 0.8em; letter-spacing: 1px\">\n",
       "        <textPath xlink:href=\"#arrow-d9080d08f2ed4961bd6b39e6af90fc33-0-4\" class=\"displacy-label\" startOffset=\"50%\" side=\"left\" fill=\"currentColor\" text-anchor=\"middle\">det</textPath>\n",
       "    </text>\n",
       "    <path class=\"displacy-arrowhead\" d=\"M820,379.0 L812,367.0 828,367.0\" fill=\"currentColor\"/>\n",
       "</g>\n",
       "\n",
       "<g class=\"displacy-arrow\">\n",
       "    <path class=\"displacy-arc\" id=\"arrow-d9080d08f2ed4961bd6b39e6af90fc33-0-5\" stroke-width=\"2px\" d=\"M970,377.0 C970,302.0 1080.0,302.0 1080.0,377.0\" fill=\"none\" stroke=\"currentColor\"/>\n",
       "    <text dy=\"1.25em\" style=\"font-size: 0.8em; letter-spacing: 1px\">\n",
       "        <textPath xlink:href=\"#arrow-d9080d08f2ed4961bd6b39e6af90fc33-0-5\" class=\"displacy-label\" startOffset=\"50%\" side=\"left\" fill=\"currentColor\" text-anchor=\"middle\">amod</textPath>\n",
       "    </text>\n",
       "    <path class=\"displacy-arrowhead\" d=\"M970,379.0 L962,367.0 978,367.0\" fill=\"currentColor\"/>\n",
       "</g>\n",
       "\n",
       "<g class=\"displacy-arrow\">\n",
       "    <path class=\"displacy-arc\" id=\"arrow-d9080d08f2ed4961bd6b39e6af90fc33-0-6\" stroke-width=\"2px\" d=\"M670,377.0 C670,152.0 1090.0,152.0 1090.0,377.0\" fill=\"none\" stroke=\"currentColor\"/>\n",
       "    <text dy=\"1.25em\" style=\"font-size: 0.8em; letter-spacing: 1px\">\n",
       "        <textPath xlink:href=\"#arrow-d9080d08f2ed4961bd6b39e6af90fc33-0-6\" class=\"displacy-label\" startOffset=\"50%\" side=\"left\" fill=\"currentColor\" text-anchor=\"middle\">pobj</textPath>\n",
       "    </text>\n",
       "    <path class=\"displacy-arrowhead\" d=\"M1090.0,379.0 L1098.0,367.0 1082.0,367.0\" fill=\"currentColor\"/>\n",
       "</g>\n",
       "\n",
       "<g class=\"displacy-arrow\">\n",
       "    <path class=\"displacy-arc\" id=\"arrow-d9080d08f2ed4961bd6b39e6af90fc33-0-7\" stroke-width=\"2px\" d=\"M1270,377.0 C1270,302.0 1380.0,302.0 1380.0,377.0\" fill=\"none\" stroke=\"currentColor\"/>\n",
       "    <text dy=\"1.25em\" style=\"font-size: 0.8em; letter-spacing: 1px\">\n",
       "        <textPath xlink:href=\"#arrow-d9080d08f2ed4961bd6b39e6af90fc33-0-7\" class=\"displacy-label\" startOffset=\"50%\" side=\"left\" fill=\"currentColor\" text-anchor=\"middle\">nsubj</textPath>\n",
       "    </text>\n",
       "    <path class=\"displacy-arrowhead\" d=\"M1270,379.0 L1262,367.0 1278,367.0\" fill=\"currentColor\"/>\n",
       "</g>\n",
       "\n",
       "<g class=\"displacy-arrow\">\n",
       "    <path class=\"displacy-arc\" id=\"arrow-d9080d08f2ed4961bd6b39e6af90fc33-0-8\" stroke-width=\"2px\" d=\"M1420,377.0 C1420,302.0 1530.0,302.0 1530.0,377.0\" fill=\"none\" stroke=\"currentColor\"/>\n",
       "    <text dy=\"1.25em\" style=\"font-size: 0.8em; letter-spacing: 1px\">\n",
       "        <textPath xlink:href=\"#arrow-d9080d08f2ed4961bd6b39e6af90fc33-0-8\" class=\"displacy-label\" startOffset=\"50%\" side=\"left\" fill=\"currentColor\" text-anchor=\"middle\">attr</textPath>\n",
       "    </text>\n",
       "    <path class=\"displacy-arrowhead\" d=\"M1530.0,379.0 L1538.0,367.0 1522.0,367.0\" fill=\"currentColor\"/>\n",
       "</g>\n",
       "\n",
       "<g class=\"displacy-arrow\">\n",
       "    <path class=\"displacy-arc\" id=\"arrow-d9080d08f2ed4961bd6b39e6af90fc33-0-9\" stroke-width=\"2px\" d=\"M1570,377.0 C1570,302.0 1680.0,302.0 1680.0,377.0\" fill=\"none\" stroke=\"currentColor\"/>\n",
       "    <text dy=\"1.25em\" style=\"font-size: 0.8em; letter-spacing: 1px\">\n",
       "        <textPath xlink:href=\"#arrow-d9080d08f2ed4961bd6b39e6af90fc33-0-9\" class=\"displacy-label\" startOffset=\"50%\" side=\"left\" fill=\"currentColor\" text-anchor=\"middle\">prep</textPath>\n",
       "    </text>\n",
       "    <path class=\"displacy-arrowhead\" d=\"M1680.0,379.0 L1688.0,367.0 1672.0,367.0\" fill=\"currentColor\"/>\n",
       "</g>\n",
       "\n",
       "<g class=\"displacy-arrow\">\n",
       "    <path class=\"displacy-arc\" id=\"arrow-d9080d08f2ed4961bd6b39e6af90fc33-0-10\" stroke-width=\"2px\" d=\"M1870,377.0 C1870,302.0 1980.0,302.0 1980.0,377.0\" fill=\"none\" stroke=\"currentColor\"/>\n",
       "    <text dy=\"1.25em\" style=\"font-size: 0.8em; letter-spacing: 1px\">\n",
       "        <textPath xlink:href=\"#arrow-d9080d08f2ed4961bd6b39e6af90fc33-0-10\" class=\"displacy-label\" startOffset=\"50%\" side=\"left\" fill=\"currentColor\" text-anchor=\"middle\">det</textPath>\n",
       "    </text>\n",
       "    <path class=\"displacy-arrowhead\" d=\"M1870,379.0 L1862,367.0 1878,367.0\" fill=\"currentColor\"/>\n",
       "</g>\n",
       "\n",
       "<g class=\"displacy-arrow\">\n",
       "    <path class=\"displacy-arc\" id=\"arrow-d9080d08f2ed4961bd6b39e6af90fc33-0-11\" stroke-width=\"2px\" d=\"M1720,377.0 C1720,227.0 1985.0,227.0 1985.0,377.0\" fill=\"none\" stroke=\"currentColor\"/>\n",
       "    <text dy=\"1.25em\" style=\"font-size: 0.8em; letter-spacing: 1px\">\n",
       "        <textPath xlink:href=\"#arrow-d9080d08f2ed4961bd6b39e6af90fc33-0-11\" class=\"displacy-label\" startOffset=\"50%\" side=\"left\" fill=\"currentColor\" text-anchor=\"middle\">pobj</textPath>\n",
       "    </text>\n",
       "    <path class=\"displacy-arrowhead\" d=\"M1985.0,379.0 L1993.0,367.0 1977.0,367.0\" fill=\"currentColor\"/>\n",
       "</g>\n",
       "\n",
       "<g class=\"displacy-arrow\">\n",
       "    <path class=\"displacy-arc\" id=\"arrow-d9080d08f2ed4961bd6b39e6af90fc33-0-12\" stroke-width=\"2px\" d=\"M2020,377.0 C2020,302.0 2130.0,302.0 2130.0,377.0\" fill=\"none\" stroke=\"currentColor\"/>\n",
       "    <text dy=\"1.25em\" style=\"font-size: 0.8em; letter-spacing: 1px\">\n",
       "        <textPath xlink:href=\"#arrow-d9080d08f2ed4961bd6b39e6af90fc33-0-12\" class=\"displacy-label\" startOffset=\"50%\" side=\"left\" fill=\"currentColor\" text-anchor=\"middle\">prep</textPath>\n",
       "    </text>\n",
       "    <path class=\"displacy-arrowhead\" d=\"M2130.0,379.0 L2138.0,367.0 2122.0,367.0\" fill=\"currentColor\"/>\n",
       "</g>\n",
       "\n",
       "<g class=\"displacy-arrow\">\n",
       "    <path class=\"displacy-arc\" id=\"arrow-d9080d08f2ed4961bd6b39e6af90fc33-0-13\" stroke-width=\"2px\" d=\"M2320,377.0 C2320,302.0 2430.0,302.0 2430.0,377.0\" fill=\"none\" stroke=\"currentColor\"/>\n",
       "    <text dy=\"1.25em\" style=\"font-size: 0.8em; letter-spacing: 1px\">\n",
       "        <textPath xlink:href=\"#arrow-d9080d08f2ed4961bd6b39e6af90fc33-0-13\" class=\"displacy-label\" startOffset=\"50%\" side=\"left\" fill=\"currentColor\" text-anchor=\"middle\">det</textPath>\n",
       "    </text>\n",
       "    <path class=\"displacy-arrowhead\" d=\"M2320,379.0 L2312,367.0 2328,367.0\" fill=\"currentColor\"/>\n",
       "</g>\n",
       "\n",
       "<g class=\"displacy-arrow\">\n",
       "    <path class=\"displacy-arc\" id=\"arrow-d9080d08f2ed4961bd6b39e6af90fc33-0-14\" stroke-width=\"2px\" d=\"M2170,377.0 C2170,227.0 2435.0,227.0 2435.0,377.0\" fill=\"none\" stroke=\"currentColor\"/>\n",
       "    <text dy=\"1.25em\" style=\"font-size: 0.8em; letter-spacing: 1px\">\n",
       "        <textPath xlink:href=\"#arrow-d9080d08f2ed4961bd6b39e6af90fc33-0-14\" class=\"displacy-label\" startOffset=\"50%\" side=\"left\" fill=\"currentColor\" text-anchor=\"middle\">pobj</textPath>\n",
       "    </text>\n",
       "    <path class=\"displacy-arrowhead\" d=\"M2435.0,379.0 L2443.0,367.0 2427.0,367.0\" fill=\"currentColor\"/>\n",
       "</g>\n",
       "\n",
       "<g class=\"displacy-arrow\">\n",
       "    <path class=\"displacy-arc\" id=\"arrow-d9080d08f2ed4961bd6b39e6af90fc33-0-15\" stroke-width=\"2px\" d=\"M2620,377.0 C2620,227.0 2885.0,227.0 2885.0,377.0\" fill=\"none\" stroke=\"currentColor\"/>\n",
       "    <text dy=\"1.25em\" style=\"font-size: 0.8em; letter-spacing: 1px\">\n",
       "        <textPath xlink:href=\"#arrow-d9080d08f2ed4961bd6b39e6af90fc33-0-15\" class=\"displacy-label\" startOffset=\"50%\" side=\"left\" fill=\"currentColor\" text-anchor=\"middle\">nsubjpass</textPath>\n",
       "    </text>\n",
       "    <path class=\"displacy-arrowhead\" d=\"M2620,379.0 L2612,367.0 2628,367.0\" fill=\"currentColor\"/>\n",
       "</g>\n",
       "\n",
       "<g class=\"displacy-arrow\">\n",
       "    <path class=\"displacy-arc\" id=\"arrow-d9080d08f2ed4961bd6b39e6af90fc33-0-16\" stroke-width=\"2px\" d=\"M2770,377.0 C2770,302.0 2880.0,302.0 2880.0,377.0\" fill=\"none\" stroke=\"currentColor\"/>\n",
       "    <text dy=\"1.25em\" style=\"font-size: 0.8em; letter-spacing: 1px\">\n",
       "        <textPath xlink:href=\"#arrow-d9080d08f2ed4961bd6b39e6af90fc33-0-16\" class=\"displacy-label\" startOffset=\"50%\" side=\"left\" fill=\"currentColor\" text-anchor=\"middle\">auxpass</textPath>\n",
       "    </text>\n",
       "    <path class=\"displacy-arrowhead\" d=\"M2770,379.0 L2762,367.0 2778,367.0\" fill=\"currentColor\"/>\n",
       "</g>\n",
       "\n",
       "<g class=\"displacy-arrow\">\n",
       "    <path class=\"displacy-arc\" id=\"arrow-d9080d08f2ed4961bd6b39e6af90fc33-0-17\" stroke-width=\"2px\" d=\"M2920,377.0 C2920,302.0 3030.0,302.0 3030.0,377.0\" fill=\"none\" stroke=\"currentColor\"/>\n",
       "    <text dy=\"1.25em\" style=\"font-size: 0.8em; letter-spacing: 1px\">\n",
       "        <textPath xlink:href=\"#arrow-d9080d08f2ed4961bd6b39e6af90fc33-0-17\" class=\"displacy-label\" startOffset=\"50%\" side=\"left\" fill=\"currentColor\" text-anchor=\"middle\">agent</textPath>\n",
       "    </text>\n",
       "    <path class=\"displacy-arrowhead\" d=\"M3030.0,379.0 L3038.0,367.0 3022.0,367.0\" fill=\"currentColor\"/>\n",
       "</g>\n",
       "\n",
       "<g class=\"displacy-arrow\">\n",
       "    <path class=\"displacy-arc\" id=\"arrow-d9080d08f2ed4961bd6b39e6af90fc33-0-18\" stroke-width=\"2px\" d=\"M3220,377.0 C3220,302.0 3330.0,302.0 3330.0,377.0\" fill=\"none\" stroke=\"currentColor\"/>\n",
       "    <text dy=\"1.25em\" style=\"font-size: 0.8em; letter-spacing: 1px\">\n",
       "        <textPath xlink:href=\"#arrow-d9080d08f2ed4961bd6b39e6af90fc33-0-18\" class=\"displacy-label\" startOffset=\"50%\" side=\"left\" fill=\"currentColor\" text-anchor=\"middle\">compound</textPath>\n",
       "    </text>\n",
       "    <path class=\"displacy-arrowhead\" d=\"M3220,379.0 L3212,367.0 3228,367.0\" fill=\"currentColor\"/>\n",
       "</g>\n",
       "\n",
       "<g class=\"displacy-arrow\">\n",
       "    <path class=\"displacy-arc\" id=\"arrow-d9080d08f2ed4961bd6b39e6af90fc33-0-19\" stroke-width=\"2px\" d=\"M3070,377.0 C3070,227.0 3335.0,227.0 3335.0,377.0\" fill=\"none\" stroke=\"currentColor\"/>\n",
       "    <text dy=\"1.25em\" style=\"font-size: 0.8em; letter-spacing: 1px\">\n",
       "        <textPath xlink:href=\"#arrow-d9080d08f2ed4961bd6b39e6af90fc33-0-19\" class=\"displacy-label\" startOffset=\"50%\" side=\"left\" fill=\"currentColor\" text-anchor=\"middle\">pobj</textPath>\n",
       "    </text>\n",
       "    <path class=\"displacy-arrowhead\" d=\"M3335.0,379.0 L3343.0,367.0 3327.0,367.0\" fill=\"currentColor\"/>\n",
       "</g>\n",
       "\n",
       "<g class=\"displacy-arrow\">\n",
       "    <path class=\"displacy-arc\" id=\"arrow-d9080d08f2ed4961bd6b39e6af90fc33-0-20\" stroke-width=\"2px\" d=\"M2920,377.0 C2920,77.0 3495.0,77.0 3495.0,377.0\" fill=\"none\" stroke=\"currentColor\"/>\n",
       "    <text dy=\"1.25em\" style=\"font-size: 0.8em; letter-spacing: 1px\">\n",
       "        <textPath xlink:href=\"#arrow-d9080d08f2ed4961bd6b39e6af90fc33-0-20\" class=\"displacy-label\" startOffset=\"50%\" side=\"left\" fill=\"currentColor\" text-anchor=\"middle\">prep</textPath>\n",
       "    </text>\n",
       "    <path class=\"displacy-arrowhead\" d=\"M3495.0,379.0 L3503.0,367.0 3487.0,367.0\" fill=\"currentColor\"/>\n",
       "</g>\n",
       "\n",
       "<g class=\"displacy-arrow\">\n",
       "    <path class=\"displacy-arc\" id=\"arrow-d9080d08f2ed4961bd6b39e6af90fc33-0-21\" stroke-width=\"2px\" d=\"M3520,377.0 C3520,302.0 3630.0,302.0 3630.0,377.0\" fill=\"none\" stroke=\"currentColor\"/>\n",
       "    <text dy=\"1.25em\" style=\"font-size: 0.8em; letter-spacing: 1px\">\n",
       "        <textPath xlink:href=\"#arrow-d9080d08f2ed4961bd6b39e6af90fc33-0-21\" class=\"displacy-label\" startOffset=\"50%\" side=\"left\" fill=\"currentColor\" text-anchor=\"middle\">pobj</textPath>\n",
       "    </text>\n",
       "    <path class=\"displacy-arrowhead\" d=\"M3630.0,379.0 L3638.0,367.0 3622.0,367.0\" fill=\"currentColor\"/>\n",
       "</g>\n",
       "\n",
       "<g class=\"displacy-arrow\">\n",
       "    <path class=\"displacy-arc\" id=\"arrow-d9080d08f2ed4961bd6b39e6af90fc33-0-22\" stroke-width=\"2px\" d=\"M2920,377.0 C2920,2.0 3800.0,2.0 3800.0,377.0\" fill=\"none\" stroke=\"currentColor\"/>\n",
       "    <text dy=\"1.25em\" style=\"font-size: 0.8em; letter-spacing: 1px\">\n",
       "        <textPath xlink:href=\"#arrow-d9080d08f2ed4961bd6b39e6af90fc33-0-22\" class=\"displacy-label\" startOffset=\"50%\" side=\"left\" fill=\"currentColor\" text-anchor=\"middle\">prep</textPath>\n",
       "    </text>\n",
       "    <path class=\"displacy-arrowhead\" d=\"M3800.0,379.0 L3808.0,367.0 3792.0,367.0\" fill=\"currentColor\"/>\n",
       "</g>\n",
       "\n",
       "<g class=\"displacy-arrow\">\n",
       "    <path class=\"displacy-arc\" id=\"arrow-d9080d08f2ed4961bd6b39e6af90fc33-0-23\" stroke-width=\"2px\" d=\"M3820,377.0 C3820,302.0 3930.0,302.0 3930.0,377.0\" fill=\"none\" stroke=\"currentColor\"/>\n",
       "    <text dy=\"1.25em\" style=\"font-size: 0.8em; letter-spacing: 1px\">\n",
       "        <textPath xlink:href=\"#arrow-d9080d08f2ed4961bd6b39e6af90fc33-0-23\" class=\"displacy-label\" startOffset=\"50%\" side=\"left\" fill=\"currentColor\" text-anchor=\"middle\">pobj</textPath>\n",
       "    </text>\n",
       "    <path class=\"displacy-arrowhead\" d=\"M3930.0,379.0 L3938.0,367.0 3922.0,367.0\" fill=\"currentColor\"/>\n",
       "</g>\n",
       "\n",
       "<g class=\"displacy-arrow\">\n",
       "    <path class=\"displacy-arc\" id=\"arrow-d9080d08f2ed4961bd6b39e6af90fc33-0-24\" stroke-width=\"2px\" d=\"M3970,377.0 C3970,302.0 4080.0,302.0 4080.0,377.0\" fill=\"none\" stroke=\"currentColor\"/>\n",
       "    <text dy=\"1.25em\" style=\"font-size: 0.8em; letter-spacing: 1px\">\n",
       "        <textPath xlink:href=\"#arrow-d9080d08f2ed4961bd6b39e6af90fc33-0-24\" class=\"displacy-label\" startOffset=\"50%\" side=\"left\" fill=\"currentColor\" text-anchor=\"middle\">prep</textPath>\n",
       "    </text>\n",
       "    <path class=\"displacy-arrowhead\" d=\"M4080.0,379.0 L4088.0,367.0 4072.0,367.0\" fill=\"currentColor\"/>\n",
       "</g>\n",
       "\n",
       "<g class=\"displacy-arrow\">\n",
       "    <path class=\"displacy-arc\" id=\"arrow-d9080d08f2ed4961bd6b39e6af90fc33-0-25\" stroke-width=\"2px\" d=\"M4270,377.0 C4270,152.0 4690.0,152.0 4690.0,377.0\" fill=\"none\" stroke=\"currentColor\"/>\n",
       "    <text dy=\"1.25em\" style=\"font-size: 0.8em; letter-spacing: 1px\">\n",
       "        <textPath xlink:href=\"#arrow-d9080d08f2ed4961bd6b39e6af90fc33-0-25\" class=\"displacy-label\" startOffset=\"50%\" side=\"left\" fill=\"currentColor\" text-anchor=\"middle\">poss</textPath>\n",
       "    </text>\n",
       "    <path class=\"displacy-arrowhead\" d=\"M4270,379.0 L4262,367.0 4278,367.0\" fill=\"currentColor\"/>\n",
       "</g>\n",
       "\n",
       "<g class=\"displacy-arrow\">\n",
       "    <path class=\"displacy-arc\" id=\"arrow-d9080d08f2ed4961bd6b39e6af90fc33-0-26\" stroke-width=\"2px\" d=\"M4420,377.0 C4420,227.0 4685.0,227.0 4685.0,377.0\" fill=\"none\" stroke=\"currentColor\"/>\n",
       "    <text dy=\"1.25em\" style=\"font-size: 0.8em; letter-spacing: 1px\">\n",
       "        <textPath xlink:href=\"#arrow-d9080d08f2ed4961bd6b39e6af90fc33-0-26\" class=\"displacy-label\" startOffset=\"50%\" side=\"left\" fill=\"currentColor\" text-anchor=\"middle\">amod</textPath>\n",
       "    </text>\n",
       "    <path class=\"displacy-arrowhead\" d=\"M4420,379.0 L4412,367.0 4428,367.0\" fill=\"currentColor\"/>\n",
       "</g>\n",
       "\n",
       "<g class=\"displacy-arrow\">\n",
       "    <path class=\"displacy-arc\" id=\"arrow-d9080d08f2ed4961bd6b39e6af90fc33-0-27\" stroke-width=\"2px\" d=\"M4570,377.0 C4570,302.0 4680.0,302.0 4680.0,377.0\" fill=\"none\" stroke=\"currentColor\"/>\n",
       "    <text dy=\"1.25em\" style=\"font-size: 0.8em; letter-spacing: 1px\">\n",
       "        <textPath xlink:href=\"#arrow-d9080d08f2ed4961bd6b39e6af90fc33-0-27\" class=\"displacy-label\" startOffset=\"50%\" side=\"left\" fill=\"currentColor\" text-anchor=\"middle\">amod</textPath>\n",
       "    </text>\n",
       "    <path class=\"displacy-arrowhead\" d=\"M4570,379.0 L4562,367.0 4578,367.0\" fill=\"currentColor\"/>\n",
       "</g>\n",
       "\n",
       "<g class=\"displacy-arrow\">\n",
       "    <path class=\"displacy-arc\" id=\"arrow-d9080d08f2ed4961bd6b39e6af90fc33-0-28\" stroke-width=\"2px\" d=\"M4720,377.0 C4720,227.0 4985.0,227.0 4985.0,377.0\" fill=\"none\" stroke=\"currentColor\"/>\n",
       "    <text dy=\"1.25em\" style=\"font-size: 0.8em; letter-spacing: 1px\">\n",
       "        <textPath xlink:href=\"#arrow-d9080d08f2ed4961bd6b39e6af90fc33-0-28\" class=\"displacy-label\" startOffset=\"50%\" side=\"left\" fill=\"currentColor\" text-anchor=\"middle\">compound</textPath>\n",
       "    </text>\n",
       "    <path class=\"displacy-arrowhead\" d=\"M4720,379.0 L4712,367.0 4728,367.0\" fill=\"currentColor\"/>\n",
       "</g>\n",
       "\n",
       "<g class=\"displacy-arrow\">\n",
       "    <path class=\"displacy-arc\" id=\"arrow-d9080d08f2ed4961bd6b39e6af90fc33-0-29\" stroke-width=\"2px\" d=\"M4870,377.0 C4870,302.0 4980.0,302.0 4980.0,377.0\" fill=\"none\" stroke=\"currentColor\"/>\n",
       "    <text dy=\"1.25em\" style=\"font-size: 0.8em; letter-spacing: 1px\">\n",
       "        <textPath xlink:href=\"#arrow-d9080d08f2ed4961bd6b39e6af90fc33-0-29\" class=\"displacy-label\" startOffset=\"50%\" side=\"left\" fill=\"currentColor\" text-anchor=\"middle\">compound</textPath>\n",
       "    </text>\n",
       "    <path class=\"displacy-arrowhead\" d=\"M4870,379.0 L4862,367.0 4878,367.0\" fill=\"currentColor\"/>\n",
       "</g>\n",
       "\n",
       "<g class=\"displacy-arrow\">\n",
       "    <path class=\"displacy-arc\" id=\"arrow-d9080d08f2ed4961bd6b39e6af90fc33-0-30\" stroke-width=\"2px\" d=\"M4120,377.0 C4120,2.0 5000.0,2.0 5000.0,377.0\" fill=\"none\" stroke=\"currentColor\"/>\n",
       "    <text dy=\"1.25em\" style=\"font-size: 0.8em; letter-spacing: 1px\">\n",
       "        <textPath xlink:href=\"#arrow-d9080d08f2ed4961bd6b39e6af90fc33-0-30\" class=\"displacy-label\" startOffset=\"50%\" side=\"left\" fill=\"currentColor\" text-anchor=\"middle\">pobj</textPath>\n",
       "    </text>\n",
       "    <path class=\"displacy-arrowhead\" d=\"M5000.0,379.0 L5008.0,367.0 4992.0,367.0\" fill=\"currentColor\"/>\n",
       "</g>\n",
       "</svg></span>"
      ],
      "text/plain": [
       "<IPython.core.display.HTML object>"
      ]
     },
     "metadata": {},
     "output_type": "display_data"
    }
   ],
   "source": [
    "import spacy\n",
    "nlp = spacy.load(\"en_core_web_sm\")\n",
    "docs = nlp(paragraph)\n",
    "displacy.render(docs, style= \"dep\", jupyter = True, options={'distance': 150})"
   ]
  },
  {
   "cell_type": "markdown",
   "id": "b28ff67f",
   "metadata": {},
   "source": [
    "# Word Cloud"
   ]
  },
  {
   "cell_type": "code",
   "execution_count": 8,
   "id": "17b2e124",
   "metadata": {},
   "outputs": [
    {
     "data": {
      "image/png": "[encoded data removed]",
      "text/plain": [
       "<Figure size 576x432 with 1 Axes>"
      ]
     },
     "metadata": {
      "needs_background": "light"
     },
     "output_type": "display_data"
    }
   ],
   "source": [
    "from wordcloud import WordCloud\n",
    "from wordcloud import STOPWORDS\n",
    "import matplotlib.pyplot as plt\n",
    "\n",
    "stopword_list = set(STOPWORDS)\n",
    "\n",
    "paragraph = \"\"\"Taj Mahal is one of the beautiful monuments. It is one of the wonders of the world. It was built by Shah Jahan in 1631 in memory of his third beloved wife Mumtaj Mahal.\"\"\"\n",
    "\n",
    "#create and generate wordcloud\n",
    "word_cloud = WordCloud(width = 550, height = 550,\n",
    "                      background_color = 'white',\n",
    "                      stopwords = stopword_list,\n",
    "                      min_font_size = 10).generate(paragraph)\n",
    "\n",
    "#visual the word cloud\n",
    "#set wordcloud figure size\n",
    "plt.figure(figsize = (8, 6))\n",
    "#show image\n",
    "plt.imshow(word_cloud)\n",
    "#remove axis\n",
    "plt.axis(\"off\")\n",
    "#show plot\n",
    "plt.show()\n"
   ]
  },
  {
   "cell_type": "markdown",
   "id": "ae703af1",
   "metadata": {},
   "source": [
    "# Bag of Words (BoW)\n",
    "# TF - IDF\n",
    "# Sentiment analysis using text classification\n",
    "# classification using BoW"
   ]
  },
  {
   "cell_type": "code",
   "execution_count": 9,
   "id": "b30c90bb",
   "metadata": {},
   "outputs": [
    {
     "data": {
      "text/html": [
       "<div>\n",
       "<style scoped>\n",
       "    .dataframe tbody tr th:only-of-type {\n",
       "        vertical-align: middle;\n",
       "    }\n",
       "\n",
       "    .dataframe tbody tr th {\n",
       "        vertical-align: top;\n",
       "    }\n",
       "\n",
       "    .dataframe thead th {\n",
       "        text-align: right;\n",
       "    }\n",
       "</style>\n",
       "<table border=\"1\" class=\"dataframe\">\n",
       "  <thead>\n",
       "    <tr style=\"text-align: right;\">\n",
       "      <th></th>\n",
       "      <th>rating</th>\n",
       "      <th>date</th>\n",
       "      <th>variation</th>\n",
       "      <th>verified_reviews</th>\n",
       "      <th>feedback</th>\n",
       "    </tr>\n",
       "  </thead>\n",
       "  <tbody>\n",
       "    <tr>\n",
       "      <th>0</th>\n",
       "      <td>5</td>\n",
       "      <td>31-Jul-18</td>\n",
       "      <td>Charcoal Fabric</td>\n",
       "      <td>Love my Echo!</td>\n",
       "      <td>1</td>\n",
       "    </tr>\n",
       "    <tr>\n",
       "      <th>1</th>\n",
       "      <td>5</td>\n",
       "      <td>31-Jul-18</td>\n",
       "      <td>Charcoal Fabric</td>\n",
       "      <td>Loved it!</td>\n",
       "      <td>1</td>\n",
       "    </tr>\n",
       "    <tr>\n",
       "      <th>2</th>\n",
       "      <td>4</td>\n",
       "      <td>31-Jul-18</td>\n",
       "      <td>Walnut Finish</td>\n",
       "      <td>Sometimes while playing a game, you can answer...</td>\n",
       "      <td>1</td>\n",
       "    </tr>\n",
       "    <tr>\n",
       "      <th>3</th>\n",
       "      <td>5</td>\n",
       "      <td>31-Jul-18</td>\n",
       "      <td>Charcoal Fabric</td>\n",
       "      <td>I have had a lot of fun with this thing. My 4 ...</td>\n",
       "      <td>1</td>\n",
       "    </tr>\n",
       "    <tr>\n",
       "      <th>4</th>\n",
       "      <td>5</td>\n",
       "      <td>31-Jul-18</td>\n",
       "      <td>Charcoal Fabric</td>\n",
       "      <td>Music</td>\n",
       "      <td>1</td>\n",
       "    </tr>\n",
       "  </tbody>\n",
       "</table>\n",
       "</div>"
      ],
      "text/plain": [
       "   rating       date         variation  \\\n",
       "0       5  31-Jul-18  Charcoal Fabric    \n",
       "1       5  31-Jul-18  Charcoal Fabric    \n",
       "2       4  31-Jul-18    Walnut Finish    \n",
       "3       5  31-Jul-18  Charcoal Fabric    \n",
       "4       5  31-Jul-18  Charcoal Fabric    \n",
       "\n",
       "                                    verified_reviews  feedback  \n",
       "0                                      Love my Echo!         1  \n",
       "1                                          Loved it!         1  \n",
       "2  Sometimes while playing a game, you can answer...         1  \n",
       "3  I have had a lot of fun with this thing. My 4 ...         1  \n",
       "4                                              Music         1  "
      ]
     },
     "execution_count": 9,
     "metadata": {},
     "output_type": "execute_result"
    }
   ],
   "source": [
    "#load dataset\n",
    "import pandas as pd\n",
    "df = pd.read_csv('datasets/amazon_alexa.tsv', sep='\\t')\n",
    "df.head()"
   ]
  },
  {
   "cell_type": "code",
   "execution_count": 10,
   "id": "30923f23",
   "metadata": {},
   "outputs": [
    {
     "data": {
      "image/png": "[encoded data removed]",
      "text/plain": [
       "<Figure size 432x288 with 1 Axes>"
      ]
     },
     "metadata": {
      "needs_background": "light"
     },
     "output_type": "display_data"
    }
   ],
   "source": [
    "#explore dataset\n",
    "#to see feedback columns how many posit nega reviews\n",
    "import seaborn as sns\n",
    "import matplotlib.pyplot as plt\n",
    "\n",
    "#count plot\n",
    "sns.countplot(x=\"feedback\", data=df)\n",
    "\n",
    "#set x axis and y axis labels\n",
    "plt.xlabel('Sentiment Score')\n",
    "plt.ylabel('Number of Records')\n",
    "\n",
    "#show plot\n",
    "plt.show()"
   ]
  },
  {
   "cell_type": "code",
   "execution_count": 11,
   "id": "cebba23f",
   "metadata": {},
   "outputs": [],
   "source": [
    "#generating features using CountVectorizer\n",
    "#import CountVectorizer and RegepxTokenizer\n",
    "from nltk.tokenize import RegexpTokenizer\n",
    "from sklearn.feature_extraction.text import CountVectorizer\n",
    "\n",
    "#create Regex tokenizer for removing special symbols and numeric values\n",
    "regex_tokenizer = RegexpTokenizer(r'[a-zA-Z]+')\n",
    "\n",
    "#initialize COuntVectorizer obj\n",
    "count_vectorizer = CountVectorizer(lowercase=True, stop_words='english',\n",
    "                                  ngram_range = (1, 1),\n",
    "                                  tokenizer = regex_tokenizer.tokenize)\n",
    "count_vectors = count_vectorizer.fit_transform(df['verified_reviews'])"
   ]
  },
  {
   "cell_type": "code",
   "execution_count": 13,
   "id": "38b231b3",
   "metadata": {},
   "outputs": [],
   "source": [
    "#split train and test set\n",
    "from sklearn.model_selection import train_test_split\n",
    "\n",
    "feature_train, feature_test, target_train, target_test = train_test_split(count_vectors, df['feedback'], test_size = 0.3, random_state=1)\n",
    "\n"
   ]
  },
  {
   "cell_type": "code",
   "execution_count": 15,
   "id": "5f9ff324",
   "metadata": {},
   "outputs": [],
   "source": [
    "#classification using logistic Regression\n",
    "from sklearn.linear_model import LogisticRegression\n",
    "\n",
    "logreg = LogisticRegression(solver='lbfgs')\n",
    "logreg.fit(feature_train, target_train)\n",
    "predictions = logreg.predict(feature_test)"
   ]
  },
  {
   "cell_type": "code",
   "execution_count": 19,
   "id": "81c3baaf",
   "metadata": {},
   "outputs": [
    {
     "name": "stdout",
     "output_type": "stream",
     "text": [
      "Logistic regression model Accuracy: 0.9428571428571428\n",
      "Logistic regression model Precision: 0.9873853211009175\n",
      "Logistic regression model Recall: 0.952433628318584\n",
      "Logistic regression model F1-score: 0.9695945945945945\n"
     ]
    }
   ],
   "source": [
    "from sklearn.metrics import accuracy_score\n",
    "from sklearn.metrics import precision_score\n",
    "from sklearn.metrics import recall_score\n",
    "from sklearn.metrics import f1_score\n",
    "\n",
    "print(\"Logistic regression model Accuracy:\", accuracy_score(predictions, target_test))\n",
    "print(\"Logistic regression model Precision:\", precision_score(predictions, target_test))\n",
    "print(\"Logistic regression model Recall:\", recall_score(predictions, target_test))\n",
    "print(\"Logistic regression model F1-score:\", f1_score(predictions, target_test))\n"
   ]
  },
  {
   "cell_type": "markdown",
   "id": "8a80a654",
   "metadata": {},
   "source": [
    "# Classification using TF-IDF"
   ]
  },
  {
   "cell_type": "code",
   "execution_count": 20,
   "id": "1a6383a3",
   "metadata": {},
   "outputs": [
    {
     "data": {
      "text/html": [
       "<div>\n",
       "<style scoped>\n",
       "    .dataframe tbody tr th:only-of-type {\n",
       "        vertical-align: middle;\n",
       "    }\n",
       "\n",
       "    .dataframe tbody tr th {\n",
       "        vertical-align: top;\n",
       "    }\n",
       "\n",
       "    .dataframe thead th {\n",
       "        text-align: right;\n",
       "    }\n",
       "</style>\n",
       "<table border=\"1\" class=\"dataframe\">\n",
       "  <thead>\n",
       "    <tr style=\"text-align: right;\">\n",
       "      <th></th>\n",
       "      <th>rating</th>\n",
       "      <th>date</th>\n",
       "      <th>variation</th>\n",
       "      <th>verified_reviews</th>\n",
       "      <th>feedback</th>\n",
       "    </tr>\n",
       "  </thead>\n",
       "  <tbody>\n",
       "    <tr>\n",
       "      <th>0</th>\n",
       "      <td>5</td>\n",
       "      <td>31-Jul-18</td>\n",
       "      <td>Charcoal Fabric</td>\n",
       "      <td>Love my Echo!</td>\n",
       "      <td>1</td>\n",
       "    </tr>\n",
       "    <tr>\n",
       "      <th>1</th>\n",
       "      <td>5</td>\n",
       "      <td>31-Jul-18</td>\n",
       "      <td>Charcoal Fabric</td>\n",
       "      <td>Loved it!</td>\n",
       "      <td>1</td>\n",
       "    </tr>\n",
       "    <tr>\n",
       "      <th>2</th>\n",
       "      <td>4</td>\n",
       "      <td>31-Jul-18</td>\n",
       "      <td>Walnut Finish</td>\n",
       "      <td>Sometimes while playing a game, you can answer...</td>\n",
       "      <td>1</td>\n",
       "    </tr>\n",
       "    <tr>\n",
       "      <th>3</th>\n",
       "      <td>5</td>\n",
       "      <td>31-Jul-18</td>\n",
       "      <td>Charcoal Fabric</td>\n",
       "      <td>I have had a lot of fun with this thing. My 4 ...</td>\n",
       "      <td>1</td>\n",
       "    </tr>\n",
       "    <tr>\n",
       "      <th>4</th>\n",
       "      <td>5</td>\n",
       "      <td>31-Jul-18</td>\n",
       "      <td>Charcoal Fabric</td>\n",
       "      <td>Music</td>\n",
       "      <td>1</td>\n",
       "    </tr>\n",
       "  </tbody>\n",
       "</table>\n",
       "</div>"
      ],
      "text/plain": [
       "   rating       date         variation  \\\n",
       "0       5  31-Jul-18  Charcoal Fabric    \n",
       "1       5  31-Jul-18  Charcoal Fabric    \n",
       "2       4  31-Jul-18    Walnut Finish    \n",
       "3       5  31-Jul-18  Charcoal Fabric    \n",
       "4       5  31-Jul-18  Charcoal Fabric    \n",
       "\n",
       "                                    verified_reviews  feedback  \n",
       "0                                      Love my Echo!         1  \n",
       "1                                          Loved it!         1  \n",
       "2  Sometimes while playing a game, you can answer...         1  \n",
       "3  I have had a lot of fun with this thing. My 4 ...         1  \n",
       "4                                              Music         1  "
      ]
     },
     "execution_count": 20,
     "metadata": {},
     "output_type": "execute_result"
    }
   ],
   "source": [
    "#load the dataset\n",
    "import pandas as pd\n",
    "\n",
    "df = pd.read_csv(\"datasets/amazon_alexa.tsv\", sep=\"\\t\")\n",
    "df.head()"
   ]
  },
  {
   "cell_type": "code",
   "execution_count": 23,
   "id": "61979c35",
   "metadata": {},
   "outputs": [],
   "source": [
    "#generating tf-idf vectorizer\n",
    "from nltk.tokenize import RegexpTokenizer\n",
    "from sklearn.feature_extraction.text import TfidfVectorizer\n",
    "\n",
    "#removing special and numeric values\n",
    "regex_tokenizer = RegexpTokenizer(r'[a-zA-Z]+')\n",
    "tfidf = TfidfVectorizer(lowercase=True,\n",
    "                       stop_words = 'english',\n",
    "                       ngram_range = (1, 1),\n",
    "                       tokenizer = regex_tokenizer.tokenize)\n",
    "#fit and transform\n",
    "text_tfidf = tfidf.fit_transform(df['verified_reviews'])"
   ]
  },
  {
   "cell_type": "code",
   "execution_count": 24,
   "id": "2470b627",
   "metadata": {},
   "outputs": [],
   "source": [
    "#split train and test sets\n",
    "from sklearn.model_selection import train_test_split\n",
    "\n",
    "feature_train, feature_test, target_train, target_test = train_test_split(\n",
    "text_tfidf, df['feedback'], test_size = 0.3, random_state = 1)"
   ]
  },
  {
   "cell_type": "code",
   "execution_count": 32,
   "id": "3d07ec94",
   "metadata": {},
   "outputs": [],
   "source": [
    "#import logistic regression to classify the review sentiment using tf-idf\n",
    "from sklearn.linear_model import LogisticRegression\n",
    "\n",
    "logreg = LogisticRegression(solver=\"lbfgs\")\n",
    "logreg.fit(feature_train, target_train)\n",
    "predictions = logreg.predict(feature_test)"
   ]
  },
  {
   "cell_type": "code",
   "execution_count": 33,
   "id": "a418efd1",
   "metadata": {},
   "outputs": [
    {
     "name": "stdout",
     "output_type": "stream",
     "text": [
      "Logistic Regression Model Accuracy: 0.9238095238095239\n",
      "Logistic Regression Model Precision: 1.0\n",
      "Logistic Regression Model Recall: 0.923728813559322\n",
      "Logistic Regression Model F1-score: 0.960352422907489\n"
     ]
    }
   ],
   "source": [
    "#import materics module for performance evaluation\n",
    "from sklearn.metrics import accuracy_score\n",
    "from sklearn.metrics import precision_score\n",
    "from sklearn.metrics import recall_score\n",
    "from sklearn.metrics import f1_score\n",
    "\n",
    "print(\"Logistic Regression Model Accuracy:\", accuracy_score(predictions, target_test))\n",
    "print(\"Logistic Regression Model Precision:\", precision_score(predictions, target_test))\n",
    "print(\"Logistic Regression Model Recall:\", recall_score(predictions, target_test))\n",
    "print(\"Logistic Regression Model F1-score:\", f1_score(predictions, target_test))"
   ]
  },
  {
   "cell_type": "markdown",
   "id": "f0a7a747",
   "metadata": {},
   "source": [
    "# Text similarity"
   ]
  },
  {
   "cell_type": "code",
   "execution_count": 34,
   "id": "29cb7b71",
   "metadata": {},
   "outputs": [
    {
     "name": "stdout",
     "output_type": "stream",
     "text": [
      "0.9570689064727947\n"
     ]
    },
    {
     "name": "stderr",
     "output_type": "stream",
     "text": [
      "C:\\Users\\acer\\AppData\\Local\\Temp/ipykernel_7240/524938888.py:12: UserWarning: [W007] The model you're using has no word vectors loaded, so the result of the Doc.similarity method will be based on the tagger, parser and NER, which may not give useful similarity judgements. This may happen if you're using one of the small models, e.g. `en_core_web_sm`, which don't ship with word vectors and only use context-sensitive tensors. You can always add your own word vectors, or use one of the larger models instead if available.\n",
      "  print(doc1.similarity(doc2))\n"
     ]
    }
   ],
   "source": [
    "# import spacy\n",
    "import spacy\n",
    "\n",
    "#load english model for tokenizer, tagger, parser, and NER\n",
    "nlp = spacy.load(\"en_core_web_sm\")\n",
    "\n",
    "#create documents\n",
    "doc1 = nlp(u\"I love pets.\")\n",
    "doc2 = nlp(u\"I hate pets.\")\n",
    "\n",
    "#find similarity\n",
    "print(doc1.similarity(doc2))"
   ]
  },
  {
   "cell_type": "markdown",
   "id": "c5bcb138",
   "metadata": {},
   "source": [
    "# Jaccard similarity\n"
   ]
  },
  {
   "cell_type": "code",
   "execution_count": 37,
   "id": "da5c2fd0",
   "metadata": {},
   "outputs": [
    {
     "data": {
      "text/plain": [
       "0.5"
      ]
     },
     "execution_count": 37,
     "metadata": {},
     "output_type": "execute_result"
    }
   ],
   "source": [
    "def jaccard_similarity(sent1, sent2):\n",
    "    \"\"\" Find text similarity using jaccard similarity \"\"\"\n",
    "    #tokenize sentences\n",
    "    token1 = set(sent1.split())\n",
    "    token2 = set(sent2.split())\n",
    "    #intersection between tokens of two sentences\n",
    "    intersection_tokens = token1.intersection(token2)\n",
    "    #union between tokens of two sentences\n",
    "    union_tokens = token1.union(token2)\n",
    "    #cosine similarity\n",
    "    sim_ = float(len(intersection_tokens) / len(union_tokens))\n",
    "    return sim_\n",
    "jaccard_similarity('I love the way you are', 'I long the way you think')"
   ]
  },
  {
   "cell_type": "code",
   "execution_count": 40,
   "id": "0df6cff6",
   "metadata": {},
   "outputs": [
    {
     "name": "stdout",
     "output_type": "stream",
     "text": [
      "[[1.         0.33609693]\n",
      " [0.33609693 1.        ]]\n"
     ]
    }
   ],
   "source": [
    "# cosine similarity using scikit learn\n",
    "from sklearn.feature_extraction.text import TfidfVectorizer\n",
    "docs = ['I love pets', 'I hate pets']\n",
    "tfidf = TfidfVectorizer()\n",
    "tfidf_vectors = tfidf.fit_transform(docs)\n",
    "\n",
    "#import cosine_similarity metrics\n",
    "from sklearn.metrics.pairwise import cosine_similarity\n",
    "\n",
    "cos_sim = cosine_similarity(tfidf_vectors, tfidf_vectors)\n",
    "print(cos_sim)"
   ]
  },
  {
   "cell_type": "code",
   "execution_count": null,
   "id": "96cffb2b",
   "metadata": {},
   "outputs": [],
   "source": []
  }
 ],
 "metadata": {
  "kernelspec": {
   "display_name": "Python 3 (ipykernel)",
   "language": "python",
   "name": "python3"
  },
  "language_info": {
   "codemirror_mode": {
    "name": "ipython",
    "version": 3
   },
   "file_extension": ".py",
   "mimetype": "text/x-python",
   "name": "python",
   "nbconvert_exporter": "python",
   "pygments_lexer": "ipython3",
   "version": "3.9.6"
  }
 },
 "nbformat": 4,
 "nbformat_minor": 5
}
