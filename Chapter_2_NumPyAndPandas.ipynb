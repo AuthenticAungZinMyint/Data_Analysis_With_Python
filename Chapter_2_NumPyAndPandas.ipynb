{
 "cells": [
  {
   "cell_type": "code",
   "execution_count": 1,
   "id": "b011d4b5",
   "metadata": {},
   "outputs": [
    {
     "name": "stdout",
     "output_type": "stream",
     "text": [
      "[ 2  4  6  8 10]\n"
     ]
    }
   ],
   "source": [
    "# Numpy array\n",
    "\n",
    "import numpy as np\n",
    "a = np.array([2, 4, 6, 8, 10])\n",
    "print(a)"
   ]
  },
  {
   "cell_type": "code",
   "execution_count": 2,
   "id": "7be3cf0b",
   "metadata": {},
   "outputs": [
    {
     "name": "stdout",
     "output_type": "stream",
     "text": [
      "[ 1  2  3  4  5  6  7  8  9 10]\n"
     ]
    }
   ],
   "source": [
    "#range\n",
    "a = np.arange(1, 11)\n",
    "print(a)"
   ]
  },
  {
   "cell_type": "code",
   "execution_count": 3,
   "id": "f01c7498",
   "metadata": {},
   "outputs": [
    {
     "name": "stdout",
     "output_type": "stream",
     "text": [
      "[[0. 0. 0.]\n",
      " [0. 0. 0.]\n",
      " [0. 0. 0.]]\n"
     ]
    }
   ],
   "source": [
    "#create array of all zeros\n",
    "p = np.zeros((3, 3))\n",
    "print(p)"
   ]
  },
  {
   "cell_type": "code",
   "execution_count": 4,
   "id": "bee711d1",
   "metadata": {},
   "outputs": [
    {
     "name": "stdout",
     "output_type": "stream",
     "text": [
      "[[1. 1.]\n",
      " [1. 1.]]\n"
     ]
    }
   ],
   "source": [
    "q = np.ones((2, 2))\n",
    "print(q)"
   ]
  },
  {
   "cell_type": "code",
   "execution_count": 5,
   "id": "3e00b897",
   "metadata": {},
   "outputs": [
    {
     "name": "stdout",
     "output_type": "stream",
     "text": [
      "[[4 4]\n",
      " [4 4]]\n"
     ]
    }
   ],
   "source": [
    "r = np.full((2, 2), 4)\n",
    "print(r)"
   ]
  },
  {
   "cell_type": "code",
   "execution_count": 6,
   "id": "28ddb413",
   "metadata": {},
   "outputs": [
    {
     "name": "stdout",
     "output_type": "stream",
     "text": [
      "[[1. 0. 0. 0.]\n",
      " [0. 1. 0. 0.]\n",
      " [0. 0. 1. 0.]\n",
      " [0. 0. 0. 1.]]\n"
     ]
    }
   ],
   "source": [
    "#create a constant array\n",
    "s = np.eye(4)\n",
    "print(s)"
   ]
  },
  {
   "cell_type": "code",
   "execution_count": 7,
   "id": "67ba2d30",
   "metadata": {},
   "outputs": [
    {
     "name": "stdout",
     "output_type": "stream",
     "text": [
      "[[0.67321591 0.15511238 0.59181081]\n",
      " [0.049254   0.14527156 0.70230126]\n",
      " [0.38944513 0.00146099 0.5340776 ]]\n"
     ]
    }
   ],
   "source": [
    "#create an array filled with random values\n",
    "t = np.random.random((3,3))\n",
    "print(t)"
   ]
  },
  {
   "cell_type": "code",
   "execution_count": 8,
   "id": "7e4fe086",
   "metadata": {},
   "outputs": [
    {
     "name": "stdout",
     "output_type": "stream",
     "text": [
      "<class 'numpy.ndarray'>\n",
      "int32\n"
     ]
    }
   ],
   "source": [
    "# Array features\n",
    "import numpy as np\n",
    "a = np.arange(1, 11)\n",
    "print(type(a))\n",
    "print(a.dtype)"
   ]
  },
  {
   "cell_type": "code",
   "execution_count": 9,
   "id": "914eef0e",
   "metadata": {},
   "outputs": [
    {
     "name": "stdout",
     "output_type": "stream",
     "text": [
      "(10,)\n"
     ]
    }
   ],
   "source": [
    "print(a.shape)"
   ]
  },
  {
   "cell_type": "code",
   "execution_count": 10,
   "id": "8901a013",
   "metadata": {},
   "outputs": [
    {
     "name": "stdout",
     "output_type": "stream",
     "text": [
      "[[5 6]\n",
      " [7 8]]\n"
     ]
    }
   ],
   "source": [
    "#selecting array elements\n",
    "a = np.array([[5,6], [7,8]])\n",
    "print(a)"
   ]
  },
  {
   "cell_type": "code",
   "execution_count": 11,
   "id": "59913c09",
   "metadata": {},
   "outputs": [
    {
     "name": "stdout",
     "output_type": "stream",
     "text": [
      "5\n"
     ]
    }
   ],
   "source": [
    "print(a[0,0])"
   ]
  },
  {
   "cell_type": "code",
   "execution_count": 12,
   "id": "baa12625",
   "metadata": {},
   "outputs": [
    {
     "name": "stdout",
     "output_type": "stream",
     "text": [
      "6\n"
     ]
    }
   ],
   "source": [
    "print(a[0,1])"
   ]
  },
  {
   "cell_type": "code",
   "execution_count": 13,
   "id": "7cf22076",
   "metadata": {},
   "outputs": [
    {
     "name": "stdout",
     "output_type": "stream",
     "text": [
      "8\n"
     ]
    }
   ],
   "source": [
    "print(a[1,1])"
   ]
  },
  {
   "cell_type": "code",
   "execution_count": 14,
   "id": "26f72736",
   "metadata": {},
   "outputs": [
    {
     "name": "stdout",
     "output_type": "stream",
     "text": [
      "21.0\n"
     ]
    }
   ],
   "source": [
    "print(np.float64(21))"
   ]
  },
  {
   "cell_type": "code",
   "execution_count": 15,
   "id": "c9725322",
   "metadata": {},
   "outputs": [
    {
     "name": "stdout",
     "output_type": "stream",
     "text": [
      "21\n"
     ]
    }
   ],
   "source": [
    "print(np.int8(21.0))"
   ]
  },
  {
   "cell_type": "code",
   "execution_count": 16,
   "id": "8df330a5",
   "metadata": {},
   "outputs": [
    {
     "name": "stdout",
     "output_type": "stream",
     "text": [
      "True\n"
     ]
    },
    {
     "name": "stderr",
     "output_type": "stream",
     "text": [
      "C:\\Users\\acer\\AppData\\Local\\Temp/ipykernel_2888/2854118230.py:1: DeprecationWarning: `np.bool` is a deprecated alias for the builtin `bool`. To silence this warning, use `bool` by itself. Doing this will not modify any behavior and is safe. If you specifically wanted the numpy scalar type, use `np.bool_` here.\n",
      "Deprecated in NumPy 1.20; for more details and guidance: https://numpy.org/devdocs/release/1.20.0-notes.html#deprecations\n",
      "  print(np.bool(21))\n"
     ]
    }
   ],
   "source": [
    "print(np.bool(21))"
   ]
  },
  {
   "cell_type": "code",
   "execution_count": 17,
   "id": "0ee01a25",
   "metadata": {},
   "outputs": [
    {
     "name": "stdout",
     "output_type": "stream",
     "text": [
      "False\n"
     ]
    },
    {
     "name": "stderr",
     "output_type": "stream",
     "text": [
      "C:\\Users\\acer\\AppData\\Local\\Temp/ipykernel_2888/1428767915.py:1: DeprecationWarning: `np.bool` is a deprecated alias for the builtin `bool`. To silence this warning, use `bool` by itself. Doing this will not modify any behavior and is safe. If you specifically wanted the numpy scalar type, use `np.bool_` here.\n",
      "Deprecated in NumPy 1.20; for more details and guidance: https://numpy.org/devdocs/release/1.20.0-notes.html#deprecations\n",
      "  print(np.bool(0))\n"
     ]
    }
   ],
   "source": [
    "print(np.bool(0))"
   ]
  },
  {
   "cell_type": "code",
   "execution_count": 18,
   "id": "e7a3951c",
   "metadata": {},
   "outputs": [
    {
     "name": "stdout",
     "output_type": "stream",
     "text": [
      "True\n"
     ]
    },
    {
     "name": "stderr",
     "output_type": "stream",
     "text": [
      "C:\\Users\\acer\\AppData\\Local\\Temp/ipykernel_2888/2116563704.py:1: DeprecationWarning: `np.bool` is a deprecated alias for the builtin `bool`. To silence this warning, use `bool` by itself. Doing this will not modify any behavior and is safe. If you specifically wanted the numpy scalar type, use `np.bool_` here.\n",
      "Deprecated in NumPy 1.20; for more details and guidance: https://numpy.org/devdocs/release/1.20.0-notes.html#deprecations\n",
      "  print(np.bool(21.0))\n"
     ]
    }
   ],
   "source": [
    "print(np.bool(21.0))"
   ]
  },
  {
   "cell_type": "code",
   "execution_count": 19,
   "id": "3cbb43b3",
   "metadata": {},
   "outputs": [
    {
     "name": "stdout",
     "output_type": "stream",
     "text": [
      "1.0\n"
     ]
    },
    {
     "name": "stderr",
     "output_type": "stream",
     "text": [
      "C:\\Users\\acer\\AppData\\Local\\Temp/ipykernel_2888/3555227287.py:1: DeprecationWarning: `np.float` is a deprecated alias for the builtin `float`. To silence this warning, use `float` by itself. Doing this will not modify any behavior and is safe. If you specifically wanted the numpy scalar type, use `np.float64` here.\n",
      "Deprecated in NumPy 1.20; for more details and guidance: https://numpy.org/devdocs/release/1.20.0-notes.html#deprecations\n",
      "  print(np.float(True))\n"
     ]
    }
   ],
   "source": [
    "print(np.float(True))"
   ]
  },
  {
   "cell_type": "code",
   "execution_count": 20,
   "id": "880e568d",
   "metadata": {},
   "outputs": [
    {
     "name": "stdout",
     "output_type": "stream",
     "text": [
      "0.0\n"
     ]
    },
    {
     "name": "stderr",
     "output_type": "stream",
     "text": [
      "C:\\Users\\acer\\AppData\\Local\\Temp/ipykernel_2888/972025111.py:1: DeprecationWarning: `np.float` is a deprecated alias for the builtin `float`. To silence this warning, use `float` by itself. Doing this will not modify any behavior and is safe. If you specifically wanted the numpy scalar type, use `np.float64` here.\n",
      "Deprecated in NumPy 1.20; for more details and guidance: https://numpy.org/devdocs/release/1.20.0-notes.html#deprecations\n",
      "  print(np.float(False))\n"
     ]
    }
   ],
   "source": [
    "print(np.float(False))"
   ]
  },
  {
   "cell_type": "code",
   "execution_count": 21,
   "id": "c0ab872a",
   "metadata": {},
   "outputs": [
    {
     "name": "stdout",
     "output_type": "stream",
     "text": [
      "[ 1.  2.  3.  4.  5.  6.  7.  8.  9. 10.]\n"
     ]
    }
   ],
   "source": [
    "arr = np.arange(1, 11, dtype=np.float32)\n",
    "print(arr)"
   ]
  },
  {
   "cell_type": "code",
   "execution_count": 22,
   "id": "421ba76a",
   "metadata": {},
   "outputs": [
    {
     "name": "stderr",
     "output_type": "stream",
     "text": [
      "C:\\Users\\acer\\AppData\\Local\\Temp/ipykernel_2888/3633440901.py:1: DeprecationWarning: `np.int` is a deprecated alias for the builtin `int`. To silence this warning, use `int` by itself. Doing this will not modify any behavior and is safe. When replacing `np.int`, you may wish to use e.g. `np.int64` or `np.int32` to specify the precision. If you wish to review your current use, check the release note link for additional information.\n",
      "Deprecated in NumPy 1.20; for more details and guidance: https://numpy.org/devdocs/release/1.20.0-notes.html#deprecations\n",
      "  np.int(42.0 + 1.j)\n"
     ]
    },
    {
     "ename": "TypeError",
     "evalue": "can't convert complex to int",
     "output_type": "error",
     "traceback": [
      "\u001b[1;31m---------------------------------------------------------------------------\u001b[0m",
      "\u001b[1;31mTypeError\u001b[0m                                 Traceback (most recent call last)",
      "\u001b[1;32m~\\AppData\\Local\\Temp/ipykernel_2888/3633440901.py\u001b[0m in \u001b[0;36m<module>\u001b[1;34m\u001b[0m\n\u001b[1;32m----> 1\u001b[1;33m \u001b[0mnp\u001b[0m\u001b[1;33m.\u001b[0m\u001b[0mint\u001b[0m\u001b[1;33m(\u001b[0m\u001b[1;36m42.0\u001b[0m \u001b[1;33m+\u001b[0m \u001b[1;36m1.j\u001b[0m\u001b[1;33m)\u001b[0m\u001b[1;33m\u001b[0m\u001b[1;33m\u001b[0m\u001b[0m\n\u001b[0m",
      "\u001b[1;31mTypeError\u001b[0m: can't convert complex to int"
     ]
    }
   ],
   "source": [
    "np.int(42.0 + 1.j)"
   ]
  },
  {
   "cell_type": "code",
   "execution_count": 26,
   "id": "6fb821f5",
   "metadata": {},
   "outputs": [
    {
     "name": "stdout",
     "output_type": "stream",
     "text": [
      "(42+1j)\n"
     ]
    }
   ],
   "source": [
    "c = complex(42, 1)\n",
    "print(c)"
   ]
  },
  {
   "cell_type": "code",
   "execution_count": 28,
   "id": "7d90f7ee",
   "metadata": {},
   "outputs": [
    {
     "name": "stdout",
     "output_type": "stream",
     "text": [
      "42.0 1.0\n"
     ]
    }
   ],
   "source": [
    "print(c.real,c.imag)"
   ]
  },
  {
   "cell_type": "markdown",
   "id": "9f10d0cf",
   "metadata": {},
   "source": [
    " Dtype object"
   ]
  },
  {
   "cell_type": "code",
   "execution_count": 29,
   "id": "94dbf6b8",
   "metadata": {},
   "outputs": [
    {
     "name": "stdout",
     "output_type": "stream",
     "text": [
      "int32\n"
     ]
    }
   ],
   "source": [
    "a = np.array([2, 4, 6, 8, 10])\n",
    "print(a.dtype)"
   ]
  },
  {
   "cell_type": "code",
   "execution_count": 30,
   "id": "392ad449",
   "metadata": {},
   "outputs": [
    {
     "name": "stdout",
     "output_type": "stream",
     "text": [
      "4\n"
     ]
    }
   ],
   "source": [
    "print(a.dtype.itemsize)"
   ]
  },
  {
   "cell_type": "code",
   "execution_count": 31,
   "id": "8de507d3",
   "metadata": {},
   "outputs": [
    {
     "name": "stdout",
     "output_type": "stream",
     "text": [
      "[ 1.  2.  3.  4.  5.  6.  7.  8.  9. 10.]\n"
     ]
    }
   ],
   "source": [
    "# Data type character codes\n",
    "varl = np.arange(1, 11, dtype='f')\n",
    "print(varl)"
   ]
  },
  {
   "cell_type": "code",
   "execution_count": 32,
   "id": "834f2fbc",
   "metadata": {},
   "outputs": [
    {
     "name": "stdout",
     "output_type": "stream",
     "text": [
      "[1.+0.j 2.+0.j 3.+0.j 4.+0.j 5.+0.j]\n"
     ]
    }
   ],
   "source": [
    "print(np.arange(1, 6, dtype='D'))"
   ]
  },
  {
   "cell_type": "markdown",
   "id": "18b30eb7",
   "metadata": {},
   "source": [
    "dtype constructors"
   ]
  },
  {
   "cell_type": "code",
   "execution_count": 33,
   "id": "7d03941e",
   "metadata": {},
   "outputs": [
    {
     "name": "stdout",
     "output_type": "stream",
     "text": [
      "float64\n"
     ]
    }
   ],
   "source": [
    "print(np.dtype(float))"
   ]
  },
  {
   "cell_type": "code",
   "execution_count": 34,
   "id": "c59a4905",
   "metadata": {},
   "outputs": [
    {
     "name": "stdout",
     "output_type": "stream",
     "text": [
      "float32\n"
     ]
    }
   ],
   "source": [
    "#single-precision float with character code\n",
    "print(np.dtype('f'))"
   ]
  },
  {
   "cell_type": "code",
   "execution_count": 35,
   "id": "6d127f35",
   "metadata": {},
   "outputs": [
    {
     "name": "stdout",
     "output_type": "stream",
     "text": [
      "float64\n"
     ]
    }
   ],
   "source": [
    "#double-precision float with character code\n",
    "print(np.dtype('d'))"
   ]
  },
  {
   "cell_type": "code",
   "execution_count": 36,
   "id": "df4f8a91",
   "metadata": {},
   "outputs": [
    {
     "name": "stdout",
     "output_type": "stream",
     "text": [
      "float64\n"
     ]
    }
   ],
   "source": [
    "#two character code\n",
    "print(np.dtype('f8'))"
   ]
  },
  {
   "cell_type": "code",
   "execution_count": 38,
   "id": "883e5e27",
   "metadata": {},
   "outputs": [
    {
     "name": "stdout",
     "output_type": "stream",
     "text": [
      "d\n"
     ]
    }
   ],
   "source": [
    "#dtype attributes\n",
    "var2 = np.array([1,2,3], dtype='float64')\n",
    "print(var2.dtype.char)"
   ]
  },
  {
   "cell_type": "code",
   "execution_count": 39,
   "id": "554bbc06",
   "metadata": {},
   "outputs": [
    {
     "name": "stdout",
     "output_type": "stream",
     "text": [
      "<class 'numpy.float64'>\n"
     ]
    }
   ],
   "source": [
    "print(var2.dtype.type)"
   ]
  },
  {
   "cell_type": "markdown",
   "id": "92cf9014",
   "metadata": {},
   "source": [
    "Manipulation array shapes"
   ]
  },
  {
   "cell_type": "code",
   "execution_count": 40,
   "id": "71ed7800",
   "metadata": {},
   "outputs": [
    {
     "name": "stdout",
     "output_type": "stream",
     "text": [
      "[ 0  1  2  3  4  5  6  7  8  9 10 11]\n"
     ]
    }
   ],
   "source": [
    "arr = np.arange(12)\n",
    "print(arr)"
   ]
  },
  {
   "cell_type": "code",
   "execution_count": 42,
   "id": "5d245894",
   "metadata": {},
   "outputs": [
    {
     "name": "stdout",
     "output_type": "stream",
     "text": [
      "[[ 0  1  2]\n",
      " [ 3  4  5]\n",
      " [ 6  7  8]\n",
      " [ 9 10 11]]\n"
     ]
    }
   ],
   "source": [
    "new_arr = arr.reshape(4, 3)\n",
    "print(new_arr)"
   ]
  },
  {
   "cell_type": "code",
   "execution_count": 43,
   "id": "4e042fe2",
   "metadata": {},
   "outputs": [
    {
     "name": "stdout",
     "output_type": "stream",
     "text": [
      "[[ 0  1  2  3]\n",
      " [ 4  5  6  7]\n",
      " [ 8  9 10 11]]\n"
     ]
    }
   ],
   "source": [
    "new_arr2 = arr.reshape(3, 4)\n",
    "print(new_arr2)"
   ]
  },
  {
   "cell_type": "code",
   "execution_count": 44,
   "id": "2eb9ecc6",
   "metadata": {},
   "outputs": [
    {
     "name": "stdout",
     "output_type": "stream",
     "text": [
      "[[1 2 3]\n",
      " [4 5 6]\n",
      " [7 8 9]]\n"
     ]
    }
   ],
   "source": [
    "arr = np.arange(1, 10).reshape(3, 3)\n",
    "print(arr)"
   ]
  },
  {
   "cell_type": "code",
   "execution_count": 45,
   "id": "3d77f861",
   "metadata": {},
   "outputs": [
    {
     "name": "stdout",
     "output_type": "stream",
     "text": [
      "[1 2 3 4 5 6 7 8 9]\n"
     ]
    }
   ],
   "source": [
    "print(arr.flatten())"
   ]
  },
  {
   "cell_type": "code",
   "execution_count": 46,
   "id": "36b83f05",
   "metadata": {},
   "outputs": [
    {
     "name": "stdout",
     "output_type": "stream",
     "text": [
      "[1 2 3 4 5 6 7 8 9]\n"
     ]
    }
   ],
   "source": [
    "print(arr.ravel())"
   ]
  },
  {
   "cell_type": "code",
   "execution_count": 47,
   "id": "9744936c",
   "metadata": {},
   "outputs": [
    {
     "name": "stdout",
     "output_type": "stream",
     "text": [
      "[[1 4 7]\n",
      " [2 5 8]\n",
      " [3 6 9]]\n"
     ]
    }
   ],
   "source": [
    "print(arr.transpose())"
   ]
  },
  {
   "cell_type": "code",
   "execution_count": 48,
   "id": "11c1356a",
   "metadata": {},
   "outputs": [
    {
     "name": "stdout",
     "output_type": "stream",
     "text": [
      "[[1 2 3 4 5 6 7 8 9]]\n"
     ]
    }
   ],
   "source": [
    "arr.resize(1,9)\n",
    "print(arr)"
   ]
  },
  {
   "cell_type": "markdown",
   "id": "88334038",
   "metadata": {},
   "source": [
    " Stacking of numpy arrays"
   ]
  },
  {
   "cell_type": "code",
   "execution_count": 49,
   "id": "a1408ec8",
   "metadata": {},
   "outputs": [
    {
     "name": "stdout",
     "output_type": "stream",
     "text": [
      "[[1 2 3]\n",
      " [4 5 6]\n",
      " [7 8 9]]\n"
     ]
    }
   ],
   "source": [
    "#Horizontal stacking\n",
    "arr1 = np.arange(1, 10).reshape(3, 3)\n",
    "print(arr1)"
   ]
  },
  {
   "cell_type": "code",
   "execution_count": 50,
   "id": "0df806c1",
   "metadata": {},
   "outputs": [
    {
     "name": "stdout",
     "output_type": "stream",
     "text": [
      "[[  2   4   8]\n",
      " [ 16  32  64]\n",
      " [128 256 512]]\n"
     ]
    }
   ],
   "source": [
    "arr2 = 2 ** arr1\n",
    "print(arr2)"
   ]
  },
  {
   "cell_type": "code",
   "execution_count": 51,
   "id": "a7335c14",
   "metadata": {},
   "outputs": [
    {
     "name": "stdout",
     "output_type": "stream",
     "text": [
      "[[  1   2   3   2   4   8]\n",
      " [  4   5   6  16  32  64]\n",
      " [  7   8   9 128 256 512]]\n"
     ]
    }
   ],
   "source": [
    "# horizontal stacking\n",
    "arr3 = np.hstack((arr1, arr2))\n",
    "print(arr3)"
   ]
  },
  {
   "cell_type": "code",
   "execution_count": 52,
   "id": "fd688577",
   "metadata": {},
   "outputs": [
    {
     "name": "stdout",
     "output_type": "stream",
     "text": [
      "[[  1   2   3   2   4   8]\n",
      " [  4   5   6  16  32  64]\n",
      " [  7   8   9 128 256 512]]\n"
     ]
    }
   ],
   "source": [
    "#horizontal stacking using concatinate()\n",
    "arr4 = np.concatenate((arr1, arr2), axis=1)\n",
    "print(arr4)"
   ]
  },
  {
   "cell_type": "code",
   "execution_count": 53,
   "id": "9263ee76",
   "metadata": {},
   "outputs": [
    {
     "name": "stdout",
     "output_type": "stream",
     "text": [
      "[[  1   2   3]\n",
      " [  4   5   6]\n",
      " [  7   8   9]\n",
      " [  2   4   8]\n",
      " [ 16  32  64]\n",
      " [128 256 512]]\n"
     ]
    }
   ],
   "source": [
    "#vertical stacking\n",
    "arr5 = np.vstack((arr1, arr2))\n",
    "print(arr5)"
   ]
  },
  {
   "cell_type": "code",
   "execution_count": 54,
   "id": "4355e957",
   "metadata": {},
   "outputs": [
    {
     "name": "stdout",
     "output_type": "stream",
     "text": [
      "[[  1   2   3]\n",
      " [  4   5   6]\n",
      " [  7   8   9]\n",
      " [  2   4   8]\n",
      " [ 16  32  64]\n",
      " [128 256 512]]\n"
     ]
    }
   ],
   "source": [
    "arr6 = np.concatenate((arr1, arr2), axis=0)\n",
    "print(arr6)"
   ]
  },
  {
   "cell_type": "code",
   "execution_count": 55,
   "id": "60682405",
   "metadata": {},
   "outputs": [
    {
     "name": "stdout",
     "output_type": "stream",
     "text": [
      "[[[  1   2]\n",
      "  [  2   4]\n",
      "  [  3   8]]\n",
      "\n",
      " [[  4  16]\n",
      "  [  5  32]\n",
      "  [  6  64]]\n",
      "\n",
      " [[  7 128]\n",
      "  [  8 256]\n",
      "  [  9 512]]]\n"
     ]
    }
   ],
   "source": [
    "# depthing stacking\n",
    "arr7 = np.dstack((arr1, arr2))\n",
    "print(arr7)"
   ]
  },
  {
   "cell_type": "code",
   "execution_count": 56,
   "id": "20f101d3",
   "metadata": {},
   "outputs": [
    {
     "name": "stdout",
     "output_type": "stream",
     "text": [
      "[4 5 6]\n"
     ]
    }
   ],
   "source": [
    "#column stacking\n",
    "arr1 = np.arange(4,7)\n",
    "print(arr1)"
   ]
  },
  {
   "cell_type": "code",
   "execution_count": 57,
   "id": "508c5ad7",
   "metadata": {},
   "outputs": [
    {
     "name": "stdout",
     "output_type": "stream",
     "text": [
      "[ 8 10 12]\n"
     ]
    }
   ],
   "source": [
    "arr2 = 2 * arr1\n",
    "print(arr2)"
   ]
  },
  {
   "cell_type": "code",
   "execution_count": 58,
   "id": "fd443863",
   "metadata": {},
   "outputs": [
    {
     "name": "stdout",
     "output_type": "stream",
     "text": [
      "[[ 4  8]\n",
      " [ 5 10]\n",
      " [ 6 12]]\n"
     ]
    }
   ],
   "source": [
    "arr_col_stack = np.column_stack((arr1, arr2))\n",
    "print(arr_col_stack)"
   ]
  },
  {
   "cell_type": "code",
   "execution_count": 59,
   "id": "663c55fa",
   "metadata": {},
   "outputs": [
    {
     "name": "stdout",
     "output_type": "stream",
     "text": [
      "[[ 4  5  6]\n",
      " [ 8 10 12]]\n"
     ]
    }
   ],
   "source": [
    "#Row Stack\n",
    "arr_row_stack = np.row_stack((arr1, arr2))\n",
    "print(arr_row_stack)"
   ]
  },
  {
   "cell_type": "markdown",
   "id": "a5ab7fa0",
   "metadata": {},
   "source": [
    " Partitioning numpy arrays"
   ]
  },
  {
   "cell_type": "code",
   "execution_count": 60,
   "id": "8bf3e99d",
   "metadata": {},
   "outputs": [
    {
     "name": "stdout",
     "output_type": "stream",
     "text": [
      "[[1 2 3]\n",
      " [4 5 6]\n",
      " [7 8 9]]\n"
     ]
    }
   ],
   "source": [
    "#horizontal splitting\n",
    "arr = np.arange(1, 10).reshape(3,3)\n",
    "print(arr)"
   ]
  },
  {
   "cell_type": "code",
   "execution_count": 61,
   "id": "3b097643",
   "metadata": {},
   "outputs": [
    {
     "name": "stdout",
     "output_type": "stream",
     "text": [
      "[array([[1],\n",
      "       [4],\n",
      "       [7]]), array([[2],\n",
      "       [5],\n",
      "       [8]]), array([[3],\n",
      "       [6],\n",
      "       [9]])]\n"
     ]
    }
   ],
   "source": [
    "arr_hori_split = np.hsplit(arr, 3)\n",
    "print(arr_hori_split)"
   ]
  },
  {
   "cell_type": "code",
   "execution_count": 62,
   "id": "c772a282",
   "metadata": {},
   "outputs": [
    {
     "name": "stdout",
     "output_type": "stream",
     "text": [
      "[array([[1, 2, 3]]), array([[4, 5, 6]]), array([[7, 8, 9]])]\n"
     ]
    }
   ],
   "source": [
    "#verticle split\n",
    "arr_ver_split = np.vsplit(arr, 3)\n",
    "print(arr_ver_split)"
   ]
  },
  {
   "cell_type": "code",
   "execution_count": null,
   "id": "fe908a2f",
   "metadata": {},
   "outputs": [],
   "source": []
  }
 ],
 "metadata": {
  "kernelspec": {
   "display_name": "Python 3 (ipykernel)",
   "language": "python",
   "name": "python3"
  },
  "language_info": {
   "codemirror_mode": {
    "name": "ipython",
    "version": 3
   },
   "file_extension": ".py",
   "mimetype": "text/x-python",
   "name": "python",
   "nbconvert_exporter": "python",
   "pygments_lexer": "ipython3",
   "version": "3.9.6"
  }
 },
 "nbformat": 4,
 "nbformat_minor": 5
}
